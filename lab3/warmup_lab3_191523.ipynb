{
  "cells": [
    {
      "cell_type": "markdown",
      "metadata": {
        "id": "view-in-github",
        "colab_type": "text"
      },
      "source": [
        "<a href=\"https://colab.research.google.com/github/teonakuzmanovska/Data-Science/blob/master/lab3/warmup_lab3_191523.ipynb\" target=\"_parent\"><img src=\"https://colab.research.google.com/assets/colab-badge.svg\" alt=\"Open In Colab\"/></a>"
      ]
    },
    {
      "cell_type": "markdown",
      "metadata": {
        "id": "v8vsWahSyK_i"
      },
      "source": [
        "# Decision Trees and Gradient Boosting"
      ]
    },
    {
      "cell_type": "markdown",
      "metadata": {
        "id": "G4FVV4npyYwk"
      },
      "source": [
        "## Setting up the Environment"
      ]
    },
    {
      "cell_type": "markdown",
      "metadata": {
        "id": "oqOCwZN6yb5y"
      },
      "source": [
        "For this laboratory exercise, you will need to install the Anaconda package & environment manager. We will install a minimal distribution, [Miniconda](https://docs.conda.io/projects/miniconda/en/latest/). Choose the adequate distribution for your operating system, download and install it."
      ]
    },
    {
      "cell_type": "markdown",
      "metadata": {
        "id": "8spwO4azzN36"
      },
      "source": [
        "Or use the following commands:\n",
        "\n",
        "### Windows\n",
        "```shell\n",
        "curl https://repo.anaconda.com/miniconda/Miniconda3-latest-Windows-x86_64.exe -o miniconda.exe\n",
        "start /wait \"\" miniconda.exe /S\n",
        "del miniconda.exe\n",
        "```\n",
        "\n",
        "### Linux\n",
        "```shell\n",
        "mkdir -p ~/miniconda3\n",
        "wget https://repo.anaconda.com/miniconda/Miniconda3-latest-Linux-x86_64.sh -O ~/miniconda3/miniconda.sh\n",
        "bash ~/miniconda3/miniconda.sh -b -u -p ~/miniconda3\n",
        "rm -rf ~/miniconda3/miniconda.sh\n",
        "```\n",
        "\n",
        "### macOS\n",
        "\n",
        "```shell\n",
        "mkdir -p ~/miniconda3\n",
        "curl https://repo.anaconda.com/miniconda/Miniconda3-latest-MacOSX-arm64.sh -o ~/miniconda3/miniconda.sh\n",
        "bash ~/miniconda3/miniconda.sh -b -u -p ~/miniconda3\n",
        "rm -rf ~/miniconda3/miniconda.sh\n",
        "```\n",
        "\n",
        "For both Linux and macOS after installing, initialize your newly-installed Miniconda. The following commands initialize for bash and zsh shells:\n",
        "\n",
        "```shell\n",
        "~/miniconda3/bin/conda init bash\n",
        "~/miniconda3/bin/conda init zsh\n",
        "```\n"
      ]
    },
    {
      "cell_type": "markdown",
      "metadata": {
        "id": "TpcSfn6YzKKq"
      },
      "source": [
        "Once you have installed miniconda, run the following commands to create an environment:\n",
        "```bash\n",
        "conda create --name myenv\n",
        "```\n",
        "\n",
        "'myenv' is the name of the environment, you can change the name however you want.\n",
        "\n",
        "When conda asks you to proceed, type y"
      ]
    },
    {
      "cell_type": "markdown",
      "metadata": {
        "id": "y50T_G3h0DLA"
      },
      "source": [
        "After successfully creating the environment, activate it with the following command:\n",
        "```bash\n",
        "conda activate myenv\n",
        "```"
      ]
    },
    {
      "cell_type": "markdown",
      "metadata": {
        "id": "sqbnCQZv0cJw"
      },
      "source": [
        "For more detailed information you can read the [documentation](https://conda.io/projects/conda/en/latest/user-guide/tasks/manage-environments.html#creating-an-environment-with-commands)."
      ]
    },
    {
      "cell_type": "markdown",
      "metadata": {
        "id": "7XcNMost0mRq"
      },
      "source": [
        "Now, once the environment is activated, proceed to install the required libraries.\n",
        "\n",
        "```bash\n",
        "pip install numpy pandas scikit-learn xgboost matplotlib seaborn gdown\n",
        "```"
      ]
    },
    {
      "cell_type": "markdown",
      "metadata": {
        "id": "rLANBz1Wv7rp"
      },
      "source": [
        "In the next step, we need to add the environment to jupyter. Use the following commands to install ipykernel and add the environment to ipykernel.\n",
        "\n",
        "```bash\n",
        "pip install ipykernel\n",
        "```\n",
        "```bash\n",
        "python -m ipykernel install --name=myenv\n",
        "```\n"
      ]
    },
    {
      "cell_type": "markdown",
      "metadata": {
        "id": "aUFIbeBt1kaS"
      },
      "source": [
        "Next, start Jupyter Notebook, download this starter notebook and open it. On the dropdown menu in the Kernel tab choose the name of the environment you created, like in the picture below.\n"
      ]
    },
    {
      "cell_type": "markdown",
      "metadata": {
        "id": "VwoFV34V2w2h"
      },
      "source": [
        "![jupyter](https://drive.google.com/uc?export=view&id=1N-27jjlIgpTILi-_6lny7ng8sE52SAZx)\n"
      ]
    },
    {
      "cell_type": "markdown",
      "metadata": {
        "id": "OpVoOwf6yO4i"
      },
      "source": [
        "## Download and Read the Dataset"
      ]
    },
    {
      "cell_type": "markdown",
      "metadata": {
        "id": "ohM0n8FwyR9n"
      },
      "source": [
        "run the code below for downloading the dataset"
      ]
    },
    {
      "cell_type": "code",
      "execution_count": null,
      "metadata": {
        "colab": {
          "base_uri": "https://localhost:8080/"
        },
        "id": "RUsX6rH0ur_7",
        "outputId": "d9de818d-8a7b-4702-e35a-2dfcbfa99efb"
      },
      "outputs": [
        {
          "name": "stdout",
          "output_type": "stream",
          "text": [
            "Collecting gdown\n",
            "  Downloading gdown-4.7.1-py3-none-any.whl (15 kB)\n",
            "Collecting filelock (from gdown)\n",
            "  Downloading filelock-3.13.1-py3-none-any.whl.metadata (2.8 kB)\n",
            "Requirement already satisfied: requests[socks] in c:\\users\\teona\\miniconda3\\envs\\myenv\\lib\\site-packages (from gdown) (2.31.0)\n",
            "Requirement already satisfied: six in c:\\users\\teona\\miniconda3\\envs\\myenv\\lib\\site-packages (from gdown) (1.16.0)\n",
            "Collecting tqdm (from gdown)\n",
            "  Downloading tqdm-4.66.1-py3-none-any.whl.metadata (57 kB)\n",
            "     ---------------------------------------- 0.0/57.6 kB ? eta -:--:--\n",
            "     ------- -------------------------------- 10.2/57.6 kB ? eta -:--:--\n",
            "     -------------------- ----------------- 30.7/57.6 kB 435.7 kB/s eta 0:00:01\n",
            "     --------------------------- ---------- 41.0/57.6 kB 388.9 kB/s eta 0:00:01\n",
            "     -------------------------------------- 57.6/57.6 kB 430.6 kB/s eta 0:00:00\n",
            "Requirement already satisfied: beautifulsoup4 in c:\\users\\teona\\miniconda3\\envs\\myenv\\lib\\site-packages (from gdown) (4.12.2)\n",
            "Requirement already satisfied: soupsieve>1.2 in c:\\users\\teona\\miniconda3\\envs\\myenv\\lib\\site-packages (from beautifulsoup4->gdown) (2.5)\n",
            "Requirement already satisfied: charset-normalizer<4,>=2 in c:\\users\\teona\\miniconda3\\envs\\myenv\\lib\\site-packages (from requests[socks]->gdown) (3.3.2)\n",
            "Requirement already satisfied: idna<4,>=2.5 in c:\\users\\teona\\miniconda3\\envs\\myenv\\lib\\site-packages (from requests[socks]->gdown) (3.6)\n",
            "Requirement already satisfied: urllib3<3,>=1.21.1 in c:\\users\\teona\\miniconda3\\envs\\myenv\\lib\\site-packages (from requests[socks]->gdown) (2.1.0)\n",
            "Requirement already satisfied: certifi>=2017.4.17 in c:\\users\\teona\\miniconda3\\envs\\myenv\\lib\\site-packages (from requests[socks]->gdown) (2023.11.17)\n",
            "Collecting PySocks!=1.5.7,>=1.5.6 (from requests[socks]->gdown)\n",
            "  Downloading PySocks-1.7.1-py3-none-any.whl (16 kB)\n",
            "Requirement already satisfied: colorama in c:\\users\\teona\\miniconda3\\envs\\myenv\\lib\\site-packages (from tqdm->gdown) (0.4.6)\n",
            "Downloading filelock-3.13.1-py3-none-any.whl (11 kB)\n",
            "Downloading tqdm-4.66.1-py3-none-any.whl (78 kB)\n",
            "   ---------------------------------------- 0.0/78.3 kB ? eta -:--:--\n",
            "   --------------- ------------------------ 30.7/78.3 kB 660.6 kB/s eta 0:00:01\n",
            "   ---------------------------------------- 78.3/78.3 kB 1.1 MB/s eta 0:00:00\n",
            "Installing collected packages: tqdm, PySocks, filelock, gdown\n",
            "Successfully installed PySocks-1.7.1 filelock-3.13.1 gdown-4.7.1 tqdm-4.66.1\n",
            "Note: you may need to restart the kernel to use updated packages.\n"
          ]
        }
      ],
      "source": [
        "pip install gdown"
      ]
    },
    {
      "cell_type": "code",
      "execution_count": null,
      "metadata": {
        "colab": {
          "base_uri": "https://localhost:8080/"
        },
        "outputId": "d9de818d-8a7b-4702-e35a-2dfcbfa99efb",
        "id": "B2wVDNSK4al0"
      },
      "outputs": [
        {
          "name": "stderr",
          "output_type": "stream",
          "text": [
            "Downloading...\n",
            "From: https://drive.google.com/uc?id=1boIax8d9Sat6OJzkiIjjpqmtSZKuRYrx\n",
            "To: C:\\Users\\Teona\\ElectricCarData.csv\n",
            "\n",
            "  0%|          | 0.00/8.20k [00:00<?, ?B/s]\n",
            "100%|##########| 8.20k/8.20k [00:00<?, ?B/s]\n"
          ]
        }
      ],
      "source": [
        "!gdown 1boIax8d9Sat6OJzkiIjjpqmtSZKuRYrx"
      ]
    },
    {
      "cell_type": "markdown",
      "metadata": {
        "id": "I1ZTcNVV32yk"
      },
      "source": [
        "### Import the required libraries"
      ]
    },
    {
      "cell_type": "code",
      "execution_count": null,
      "metadata": {
        "id": "M7Phib8Y3eqe"
      },
      "outputs": [],
      "source": [
        "pip install pandas"
      ]
    },
    {
      "cell_type": "code",
      "execution_count": null,
      "metadata": {
        "id": "NINwlj-34al4"
      },
      "outputs": [],
      "source": [
        "import pandas as pd"
      ]
    },
    {
      "cell_type": "markdown",
      "metadata": {
        "id": "wk0MCMKH35Ba"
      },
      "source": [
        "### Read the dataset"
      ]
    },
    {
      "cell_type": "markdown",
      "metadata": {
        "id": "pSBxYm244IcC"
      },
      "source": [
        "CONTEXT:\n",
        "This is a dataset of electric vehicles.\n",
        "\n",
        "It contains the following columns:\n",
        "\n",
        "\n",
        "*   Brand\n",
        "*   Model\n",
        "*   AccelSec - Acceleration as 0-100 km/h\n",
        "*   TopSpeed_KmH - The top speed in km/h\n",
        "*   Range_Km - Range in km\n",
        "*   Efficiency_WhKm - Efficiency Wh/km\n",
        "*   FastCharge_KmH - Charge km/h\n",
        "*   RapidCharge - Yes / No\n",
        "*   PowerTrain - Front, rear, or all wheel drive\n",
        "*   PlugType\n",
        "*   BodyStyle - Basic size or style\n",
        "*   Segment - Market segment\n",
        "*   Seats - Number of seats\n",
        "*   PriceEuro - Price in Germany before tax incentives\n",
        "\n",
        "\n"
      ]
    },
    {
      "cell_type": "markdown",
      "metadata": {
        "id": "ikjYEe5T5O8o"
      },
      "source": [
        "TASK:\n",
        "Predict the target 'PriceEuro' and compare the performance of the DecisionTreeRegressor and the XGBRegressor models."
      ]
    },
    {
      "cell_type": "code",
      "execution_count": null,
      "metadata": {
        "id": "aN-khP-Q3sau"
      },
      "outputs": [],
      "source": [
        "data = pd.read_csv('ElectricCarData.csv')"
      ]
    },
    {
      "cell_type": "code",
      "execution_count": null,
      "metadata": {
        "colab": {
          "base_uri": "https://localhost:8080/",
          "height": 293
        },
        "id": "qfrbPmjm4Dxq",
        "outputId": "c8f58f32-2af1-4291-8278-c0eeb158bf79"
      },
      "outputs": [
        {
          "data": {
            "text/html": [
              "<div>\n",
              "<style scoped>\n",
              "    .dataframe tbody tr th:only-of-type {\n",
              "        vertical-align: middle;\n",
              "    }\n",
              "\n",
              "    .dataframe tbody tr th {\n",
              "        vertical-align: top;\n",
              "    }\n",
              "\n",
              "    .dataframe thead th {\n",
              "        text-align: right;\n",
              "    }\n",
              "</style>\n",
              "<table border=\"1\" class=\"dataframe\">\n",
              "  <thead>\n",
              "    <tr style=\"text-align: right;\">\n",
              "      <th></th>\n",
              "      <th>Brand</th>\n",
              "      <th>Model</th>\n",
              "      <th>AccelSec</th>\n",
              "      <th>TopSpeed_KmH</th>\n",
              "      <th>Range_Km</th>\n",
              "      <th>Efficiency_WhKm</th>\n",
              "      <th>FastCharge_KmH</th>\n",
              "      <th>RapidCharge</th>\n",
              "      <th>PowerTrain</th>\n",
              "      <th>PlugType</th>\n",
              "      <th>BodyStyle</th>\n",
              "      <th>Segment</th>\n",
              "      <th>Seats</th>\n",
              "      <th>PriceEuro</th>\n",
              "    </tr>\n",
              "  </thead>\n",
              "  <tbody>\n",
              "    <tr>\n",
              "      <th>0</th>\n",
              "      <td>Tesla</td>\n",
              "      <td>Model 3 Long Range Dual Motor</td>\n",
              "      <td>4.6</td>\n",
              "      <td>233</td>\n",
              "      <td>450</td>\n",
              "      <td>161</td>\n",
              "      <td>940</td>\n",
              "      <td>Yes</td>\n",
              "      <td>AWD</td>\n",
              "      <td>Type 2 CCS</td>\n",
              "      <td>Sedan</td>\n",
              "      <td>D</td>\n",
              "      <td>5</td>\n",
              "      <td>55480</td>\n",
              "    </tr>\n",
              "    <tr>\n",
              "      <th>1</th>\n",
              "      <td>Volkswagen</td>\n",
              "      <td>ID.3 Pure</td>\n",
              "      <td>10.0</td>\n",
              "      <td>160</td>\n",
              "      <td>270</td>\n",
              "      <td>167</td>\n",
              "      <td>250</td>\n",
              "      <td>Yes</td>\n",
              "      <td>RWD</td>\n",
              "      <td>Type 2 CCS</td>\n",
              "      <td>Hatchback</td>\n",
              "      <td>C</td>\n",
              "      <td>5</td>\n",
              "      <td>30000</td>\n",
              "    </tr>\n",
              "    <tr>\n",
              "      <th>2</th>\n",
              "      <td>Polestar</td>\n",
              "      <td>2</td>\n",
              "      <td>4.7</td>\n",
              "      <td>210</td>\n",
              "      <td>400</td>\n",
              "      <td>181</td>\n",
              "      <td>620</td>\n",
              "      <td>Yes</td>\n",
              "      <td>AWD</td>\n",
              "      <td>Type 2 CCS</td>\n",
              "      <td>Liftback</td>\n",
              "      <td>D</td>\n",
              "      <td>5</td>\n",
              "      <td>56440</td>\n",
              "    </tr>\n",
              "    <tr>\n",
              "      <th>3</th>\n",
              "      <td>BMW</td>\n",
              "      <td>iX3</td>\n",
              "      <td>6.8</td>\n",
              "      <td>180</td>\n",
              "      <td>360</td>\n",
              "      <td>206</td>\n",
              "      <td>560</td>\n",
              "      <td>Yes</td>\n",
              "      <td>RWD</td>\n",
              "      <td>Type 2 CCS</td>\n",
              "      <td>SUV</td>\n",
              "      <td>D</td>\n",
              "      <td>5</td>\n",
              "      <td>68040</td>\n",
              "    </tr>\n",
              "    <tr>\n",
              "      <th>4</th>\n",
              "      <td>Honda</td>\n",
              "      <td>e</td>\n",
              "      <td>9.5</td>\n",
              "      <td>145</td>\n",
              "      <td>170</td>\n",
              "      <td>168</td>\n",
              "      <td>190</td>\n",
              "      <td>Yes</td>\n",
              "      <td>RWD</td>\n",
              "      <td>Type 2 CCS</td>\n",
              "      <td>Hatchback</td>\n",
              "      <td>B</td>\n",
              "      <td>4</td>\n",
              "      <td>32997</td>\n",
              "    </tr>\n",
              "  </tbody>\n",
              "</table>\n",
              "</div>"
            ],
            "text/plain": [
              "         Brand                          Model  AccelSec  TopSpeed_KmH  \\\n",
              "0       Tesla   Model 3 Long Range Dual Motor       4.6           233   \n",
              "1  Volkswagen                       ID.3 Pure      10.0           160   \n",
              "2    Polestar                               2       4.7           210   \n",
              "3         BMW                            iX3        6.8           180   \n",
              "4       Honda                              e        9.5           145   \n",
              "\n",
              "   Range_Km  Efficiency_WhKm FastCharge_KmH RapidCharge PowerTrain  \\\n",
              "0       450              161            940         Yes        AWD   \n",
              "1       270              167            250         Yes        RWD   \n",
              "2       400              181            620         Yes        AWD   \n",
              "3       360              206            560         Yes        RWD   \n",
              "4       170              168            190         Yes        RWD   \n",
              "\n",
              "     PlugType  BodyStyle Segment  Seats  PriceEuro  \n",
              "0  Type 2 CCS      Sedan       D      5      55480  \n",
              "1  Type 2 CCS  Hatchback       C      5      30000  \n",
              "2  Type 2 CCS   Liftback       D      5      56440  \n",
              "3  Type 2 CCS        SUV       D      5      68040  \n",
              "4  Type 2 CCS  Hatchback       B      4      32997  "
            ]
          },
          "execution_count": 5,
          "metadata": {},
          "output_type": "execute_result"
        }
      ],
      "source": [
        "data.head()"
      ]
    },
    {
      "cell_type": "markdown",
      "metadata": {
        "id": "rA23aFaJ38gc"
      },
      "source": [
        "### Encode string variables"
      ]
    },
    {
      "cell_type": "code",
      "execution_count": null,
      "metadata": {
        "id": "MohX4QLo4amA",
        "outputId": "ab6c395e-96d8-4807-afdd-853e15400ca2"
      },
      "outputs": [
        {
          "name": "stdout",
          "output_type": "stream",
          "text": [
            "Collecting scikit-learn\n",
            "  Downloading scikit_learn-1.3.2-cp311-cp311-win_amd64.whl.metadata (11 kB)\n",
            "Requirement already satisfied: numpy<2.0,>=1.17.3 in c:\\users\\teona\\miniconda3\\envs\\myenv\\lib\\site-packages (from scikit-learn) (1.26.2)\n",
            "Collecting scipy>=1.5.0 (from scikit-learn)\n",
            "  Downloading scipy-1.11.4-cp311-cp311-win_amd64.whl.metadata (60 kB)\n",
            "     ---------------------------------------- 0.0/60.4 kB ? eta -:--:--\n",
            "     ---------------------------------------- 0.0/60.4 kB ? eta -:--:--\n",
            "     ------ --------------------------------- 10.2/60.4 kB ? eta -:--:--\n",
            "     ------ --------------------------------- 10.2/60.4 kB ? eta -:--:--\n",
            "     ------------------- ------------------ 30.7/60.4 kB 330.3 kB/s eta 0:00:01\n",
            "     -------------------------------- ----- 51.2/60.4 kB 290.5 kB/s eta 0:00:01\n",
            "     -------------------------------------- 60.4/60.4 kB 321.5 kB/s eta 0:00:00\n",
            "Collecting joblib>=1.1.1 (from scikit-learn)\n",
            "  Downloading joblib-1.3.2-py3-none-any.whl.metadata (5.4 kB)\n",
            "Collecting threadpoolctl>=2.0.0 (from scikit-learn)\n",
            "  Downloading threadpoolctl-3.2.0-py3-none-any.whl.metadata (10.0 kB)\n",
            "Downloading scikit_learn-1.3.2-cp311-cp311-win_amd64.whl (9.2 MB)\n",
            "   ---------------------------------------- 0.0/9.2 MB ? eta -:--:--\n",
            "   ---------------------------------------- 0.0/9.2 MB 1.3 MB/s eta 0:00:08\n",
            "    --------------------------------------- 0.2/9.2 MB 1.8 MB/s eta 0:00:05\n",
            "   - -------------------------------------- 0.3/9.2 MB 2.5 MB/s eta 0:00:04\n",
            "   -- ------------------------------------- 0.6/9.2 MB 3.3 MB/s eta 0:00:03\n",
            "   ---- ----------------------------------- 1.0/9.2 MB 4.4 MB/s eta 0:00:02\n",
            "   ----- ---------------------------------- 1.3/9.2 MB 5.0 MB/s eta 0:00:02\n",
            "   ------- -------------------------------- 1.7/9.2 MB 5.3 MB/s eta 0:00:02\n",
            "   --------- ------------------------------ 2.1/9.2 MB 5.7 MB/s eta 0:00:02\n",
            "   ---------- ----------------------------- 2.4/9.2 MB 6.0 MB/s eta 0:00:02\n",
            "   ------------ --------------------------- 2.9/9.2 MB 6.3 MB/s eta 0:00:02\n",
            "   -------------- ------------------------- 3.2/9.2 MB 6.5 MB/s eta 0:00:01\n",
            "   --------------- ------------------------ 3.6/9.2 MB 6.6 MB/s eta 0:00:01\n",
            "   ----------------- ---------------------- 4.0/9.2 MB 6.8 MB/s eta 0:00:01\n",
            "   ------------------- -------------------- 4.4/9.2 MB 6.9 MB/s eta 0:00:01\n",
            "   -------------------- ------------------- 4.8/9.2 MB 7.1 MB/s eta 0:00:01\n",
            "   ---------------------- ----------------- 5.2/9.2 MB 7.0 MB/s eta 0:00:01\n",
            "   ------------------------ --------------- 5.6/9.2 MB 7.3 MB/s eta 0:00:01\n",
            "   ------------------------- -------------- 6.0/9.2 MB 7.2 MB/s eta 0:00:01\n",
            "   --------------------------- ------------ 6.4/9.2 MB 7.3 MB/s eta 0:00:01\n",
            "   ----------------------------- ---------- 6.7/9.2 MB 7.4 MB/s eta 0:00:01\n",
            "   ------------------------------ --------- 7.1/9.2 MB 7.3 MB/s eta 0:00:01\n",
            "   -------------------------------- ------- 7.5/9.2 MB 7.4 MB/s eta 0:00:01\n",
            "   ---------------------------------- ----- 7.9/9.2 MB 7.5 MB/s eta 0:00:01\n",
            "   ----------------------------------- ---- 8.2/9.2 MB 7.5 MB/s eta 0:00:01\n",
            "   ------------------------------------- -- 8.6/9.2 MB 7.6 MB/s eta 0:00:01\n",
            "   ---------------------------------------  9.0/9.2 MB 7.6 MB/s eta 0:00:01\n",
            "   ---------------------------------------  9.2/9.2 MB 7.5 MB/s eta 0:00:01\n",
            "   ---------------------------------------- 9.2/9.2 MB 7.3 MB/s eta 0:00:00\n",
            "Downloading joblib-1.3.2-py3-none-any.whl (302 kB)\n",
            "   ---------------------------------------- 0.0/302.2 kB ? eta -:--:--\n",
            "   ---------------------------------------  297.0/302.2 kB 9.2 MB/s eta 0:00:01\n",
            "   ---------------------------------------- 302.2/302.2 kB 6.2 MB/s eta 0:00:00\n",
            "Downloading scipy-1.11.4-cp311-cp311-win_amd64.whl (44.1 MB)\n",
            "   ---------------------------------------- 0.0/44.1 MB ? eta -:--:--\n",
            "   ---------------------------------------- 0.4/44.1 MB 10.9 MB/s eta 0:00:05\n",
            "    --------------------------------------- 0.7/44.1 MB 9.1 MB/s eta 0:00:05\n",
            "    --------------------------------------- 1.1/44.1 MB 8.7 MB/s eta 0:00:05\n",
            "   - -------------------------------------- 1.4/44.1 MB 8.0 MB/s eta 0:00:06\n",
            "   - -------------------------------------- 1.8/44.1 MB 8.2 MB/s eta 0:00:06\n",
            "   - -------------------------------------- 2.2/44.1 MB 8.2 MB/s eta 0:00:06\n",
            "   -- ------------------------------------- 2.6/44.1 MB 8.2 MB/s eta 0:00:06\n",
            "   -- ------------------------------------- 3.0/44.1 MB 8.2 MB/s eta 0:00:05\n",
            "   --- ------------------------------------ 3.3/44.1 MB 8.2 MB/s eta 0:00:05\n",
            "   --- ------------------------------------ 3.7/44.1 MB 8.1 MB/s eta 0:00:05\n",
            "   --- ------------------------------------ 4.0/44.1 MB 8.1 MB/s eta 0:00:05\n",
            "   ---- ----------------------------------- 4.4/44.1 MB 8.1 MB/s eta 0:00:05\n",
            "   ---- ----------------------------------- 4.9/44.1 MB 8.2 MB/s eta 0:00:05\n",
            "   ---- ----------------------------------- 5.2/44.1 MB 8.1 MB/s eta 0:00:05\n",
            "   ----- ---------------------------------- 5.6/44.1 MB 8.1 MB/s eta 0:00:05\n",
            "   ----- ---------------------------------- 5.9/44.1 MB 8.0 MB/s eta 0:00:05\n",
            "   ----- ---------------------------------- 6.3/44.1 MB 8.0 MB/s eta 0:00:05\n",
            "   ------ --------------------------------- 6.6/44.1 MB 8.0 MB/s eta 0:00:05\n",
            "   ------ --------------------------------- 7.0/44.1 MB 8.0 MB/s eta 0:00:05\n",
            "   ------ --------------------------------- 7.4/44.1 MB 8.0 MB/s eta 0:00:05\n",
            "   ------- -------------------------------- 7.8/44.1 MB 8.0 MB/s eta 0:00:05\n",
            "   ------- -------------------------------- 8.1/44.1 MB 8.0 MB/s eta 0:00:05\n",
            "   ------- -------------------------------- 8.5/44.1 MB 8.0 MB/s eta 0:00:05\n",
            "   -------- ------------------------------- 8.9/44.1 MB 8.0 MB/s eta 0:00:05\n",
            "   -------- ------------------------------- 9.3/44.1 MB 8.0 MB/s eta 0:00:05\n",
            "   -------- ------------------------------- 9.6/44.1 MB 8.0 MB/s eta 0:00:05\n",
            "   --------- ------------------------------ 10.0/44.1 MB 8.0 MB/s eta 0:00:05\n",
            "   --------- ------------------------------ 10.4/44.1 MB 8.0 MB/s eta 0:00:05\n",
            "   --------- ------------------------------ 10.8/44.1 MB 8.1 MB/s eta 0:00:05\n",
            "   ---------- ----------------------------- 11.2/44.1 MB 8.0 MB/s eta 0:00:05\n",
            "   ---------- ----------------------------- 11.5/44.1 MB 8.0 MB/s eta 0:00:05\n",
            "   ---------- ----------------------------- 11.8/44.1 MB 8.0 MB/s eta 0:00:05\n",
            "   ----------- ---------------------------- 12.3/44.1 MB 8.0 MB/s eta 0:00:04\n",
            "   ----------- ---------------------------- 12.7/44.1 MB 8.0 MB/s eta 0:00:04\n",
            "   ----------- ---------------------------- 13.0/44.1 MB 8.0 MB/s eta 0:00:04\n",
            "   ------------ --------------------------- 13.4/44.1 MB 8.0 MB/s eta 0:00:04\n",
            "   ------------ --------------------------- 13.8/44.1 MB 8.0 MB/s eta 0:00:04\n",
            "   ------------ --------------------------- 14.1/44.1 MB 8.0 MB/s eta 0:00:04\n",
            "   ------------- -------------------------- 14.5/44.1 MB 8.0 MB/s eta 0:00:04\n",
            "   ------------- -------------------------- 14.9/44.1 MB 8.0 MB/s eta 0:00:04\n",
            "   ------------- -------------------------- 15.2/44.1 MB 8.0 MB/s eta 0:00:04\n",
            "   -------------- ------------------------- 15.6/44.1 MB 8.0 MB/s eta 0:00:04\n",
            "   -------------- ------------------------- 16.0/44.1 MB 8.1 MB/s eta 0:00:04\n",
            "   -------------- ------------------------- 16.4/44.1 MB 8.1 MB/s eta 0:00:04\n",
            "   --------------- ------------------------ 16.8/44.1 MB 8.1 MB/s eta 0:00:04\n",
            "   --------------- ------------------------ 17.2/44.1 MB 8.1 MB/s eta 0:00:04\n",
            "   --------------- ------------------------ 17.5/44.1 MB 8.0 MB/s eta 0:00:04\n",
            "   ---------------- ----------------------- 17.9/44.1 MB 8.1 MB/s eta 0:00:04\n",
            "   ---------------- ----------------------- 18.3/44.1 MB 8.1 MB/s eta 0:00:04\n",
            "   ---------------- ----------------------- 18.7/44.1 MB 8.1 MB/s eta 0:00:04\n",
            "   ----------------- ---------------------- 19.1/44.1 MB 8.1 MB/s eta 0:00:04\n",
            "   ----------------- ---------------------- 19.5/44.1 MB 8.1 MB/s eta 0:00:04\n",
            "   ------------------ --------------------- 19.9/44.1 MB 8.1 MB/s eta 0:00:03\n",
            "   ------------------ --------------------- 20.2/44.1 MB 8.1 MB/s eta 0:00:03\n",
            "   ------------------ --------------------- 20.6/44.1 MB 8.1 MB/s eta 0:00:03\n",
            "   ------------------- -------------------- 21.0/44.1 MB 8.1 MB/s eta 0:00:03\n",
            "   ------------------- -------------------- 21.4/44.1 MB 8.1 MB/s eta 0:00:03\n",
            "   ------------------- -------------------- 21.7/44.1 MB 8.1 MB/s eta 0:00:03\n",
            "   -------------------- ------------------- 22.1/44.1 MB 8.1 MB/s eta 0:00:03\n",
            "   -------------------- ------------------- 22.5/44.1 MB 8.2 MB/s eta 0:00:03\n",
            "   -------------------- ------------------- 22.9/44.1 MB 8.1 MB/s eta 0:00:03\n",
            "   --------------------- ------------------ 23.3/44.1 MB 8.1 MB/s eta 0:00:03\n",
            "   --------------------- ------------------ 23.6/44.1 MB 8.1 MB/s eta 0:00:03\n",
            "   --------------------- ------------------ 24.0/44.1 MB 8.1 MB/s eta 0:00:03\n",
            "   ---------------------- ----------------- 24.4/44.1 MB 8.1 MB/s eta 0:00:03\n",
            "   ---------------------- ----------------- 24.7/44.1 MB 8.1 MB/s eta 0:00:03\n",
            "   ---------------------- ----------------- 25.1/44.1 MB 8.1 MB/s eta 0:00:03\n",
            "   ----------------------- ---------------- 25.4/44.1 MB 8.1 MB/s eta 0:00:03\n",
            "   ----------------------- ---------------- 25.8/44.1 MB 8.1 MB/s eta 0:00:03\n",
            "   ----------------------- ---------------- 26.2/44.1 MB 8.1 MB/s eta 0:00:03\n",
            "   ------------------------ --------------- 26.6/44.1 MB 8.1 MB/s eta 0:00:03\n",
            "   ------------------------ --------------- 27.0/44.1 MB 8.1 MB/s eta 0:00:03\n",
            "   ------------------------ --------------- 27.4/44.1 MB 8.1 MB/s eta 0:00:03\n",
            "   ------------------------- -------------- 27.8/44.1 MB 8.1 MB/s eta 0:00:03\n",
            "   ------------------------- -------------- 28.2/44.1 MB 8.1 MB/s eta 0:00:02\n",
            "   ------------------------- -------------- 28.6/44.1 MB 8.1 MB/s eta 0:00:02\n",
            "   -------------------------- ------------- 29.0/44.1 MB 8.1 MB/s eta 0:00:02\n",
            "   -------------------------- ------------- 29.4/44.1 MB 8.2 MB/s eta 0:00:02\n",
            "   --------------------------- ------------ 29.8/44.1 MB 8.2 MB/s eta 0:00:02\n",
            "   --------------------------- ------------ 30.2/44.1 MB 8.2 MB/s eta 0:00:02\n",
            "   --------------------------- ------------ 30.6/44.1 MB 8.2 MB/s eta 0:00:02\n",
            "   --------------------------- ------------ 30.7/44.1 MB 8.0 MB/s eta 0:00:02\n",
            "   ---------------------------- ----------- 31.1/44.1 MB 7.9 MB/s eta 0:00:02\n",
            "   ---------------------------- ----------- 31.4/44.1 MB 7.9 MB/s eta 0:00:02\n",
            "   ---------------------------- ----------- 31.8/44.1 MB 8.0 MB/s eta 0:00:02\n",
            "   ----------------------------- ---------- 32.2/44.1 MB 8.0 MB/s eta 0:00:02\n",
            "   ----------------------------- ---------- 32.6/44.1 MB 8.0 MB/s eta 0:00:02\n",
            "   ----------------------------- ---------- 33.1/44.1 MB 8.1 MB/s eta 0:00:02\n",
            "   ------------------------------ --------- 33.4/44.1 MB 8.1 MB/s eta 0:00:02\n",
            "   ------------------------------ --------- 33.8/44.1 MB 8.1 MB/s eta 0:00:02\n",
            "   ------------------------------ --------- 33.9/44.1 MB 7.9 MB/s eta 0:00:02\n",
            "   ------------------------------- -------- 34.3/44.1 MB 7.9 MB/s eta 0:00:02\n",
            "   ------------------------------- -------- 34.7/44.1 MB 7.9 MB/s eta 0:00:02\n",
            "   ------------------------------- -------- 35.1/44.1 MB 7.9 MB/s eta 0:00:02\n",
            "   -------------------------------- ------- 35.5/44.1 MB 7.9 MB/s eta 0:00:02\n",
            "   -------------------------------- ------- 35.8/44.1 MB 7.9 MB/s eta 0:00:02\n",
            "   -------------------------------- ------- 36.2/44.1 MB 8.0 MB/s eta 0:00:01\n",
            "   --------------------------------- ------ 36.6/44.1 MB 8.0 MB/s eta 0:00:01\n",
            "   --------------------------------- ------ 36.9/44.1 MB 7.9 MB/s eta 0:00:01\n",
            "   --------------------------------- ------ 37.4/44.1 MB 7.9 MB/s eta 0:00:01\n",
            "   ---------------------------------- ----- 37.7/44.1 MB 7.9 MB/s eta 0:00:01\n",
            "   ---------------------------------- ----- 38.1/44.1 MB 7.9 MB/s eta 0:00:01\n",
            "   ---------------------------------- ----- 38.5/44.1 MB 7.9 MB/s eta 0:00:01\n",
            "   ----------------------------------- ---- 38.8/44.1 MB 7.9 MB/s eta 0:00:01\n",
            "   ----------------------------------- ---- 39.2/44.1 MB 7.9 MB/s eta 0:00:01\n",
            "   ----------------------------------- ---- 39.6/44.1 MB 7.9 MB/s eta 0:00:01\n",
            "   ------------------------------------ --- 40.0/44.1 MB 7.8 MB/s eta 0:00:01\n",
            "   ------------------------------------ --- 40.4/44.1 MB 7.8 MB/s eta 0:00:01\n",
            "   ------------------------------------ --- 40.7/44.1 MB 7.8 MB/s eta 0:00:01\n",
            "   ------------------------------------- -- 41.1/44.1 MB 8.0 MB/s eta 0:00:01\n",
            "   ------------------------------------- -- 41.5/44.1 MB 8.0 MB/s eta 0:00:01\n",
            "   ------------------------------------- -- 41.8/44.1 MB 8.0 MB/s eta 0:00:01\n",
            "   -------------------------------------- - 42.2/44.1 MB 8.0 MB/s eta 0:00:01\n",
            "   -------------------------------------- - 42.6/44.1 MB 7.9 MB/s eta 0:00:01\n",
            "   ---------------------------------------  43.0/44.1 MB 8.0 MB/s eta 0:00:01\n",
            "   ---------------------------------------  43.3/44.1 MB 7.9 MB/s eta 0:00:01\n",
            "   ---------------------------------------  43.7/44.1 MB 7.8 MB/s eta 0:00:01\n",
            "   ---------------------------------------  44.1/44.1 MB 7.9 MB/s eta 0:00:01\n",
            "   ---------------------------------------  44.1/44.1 MB 7.9 MB/s eta 0:00:01\n",
            "   ---------------------------------------  44.1/44.1 MB 7.9 MB/s eta 0:00:01\n",
            "   ---------------------------------------  44.1/44.1 MB 7.9 MB/s eta 0:00:01\n",
            "   ---------------------------------------  44.1/44.1 MB 7.9 MB/s eta 0:00:01\n",
            "   ---------------------------------------  44.1/44.1 MB 7.9 MB/s eta 0:00:01\n",
            "   ---------------------------------------- 44.1/44.1 MB 6.6 MB/s eta 0:00:00\n",
            "Downloading threadpoolctl-3.2.0-py3-none-any.whl (15 kB)\n",
            "Installing collected packages: threadpoolctl, scipy, joblib, scikit-learn\n",
            "Successfully installed joblib-1.3.2 scikit-learn-1.3.2 scipy-1.11.4 threadpoolctl-3.2.0\n",
            "Note: you may need to restart the kernel to use updated packages.\n"
          ]
        }
      ],
      "source": [
        "pip install scikit-learn"
      ]
    },
    {
      "cell_type": "code",
      "execution_count": null,
      "metadata": {
        "id": "XWqGjWes4BW5"
      },
      "outputs": [],
      "source": [
        "from sklearn.preprocessing import LabelEncoder, OneHotEncoder"
      ]
    },
    {
      "cell_type": "code",
      "execution_count": null,
      "metadata": {
        "id": "iYdAwJpq4amE"
      },
      "outputs": [],
      "source": [
        "labelEncoder = LabelEncoder()"
      ]
    },
    {
      "cell_type": "code",
      "execution_count": null,
      "metadata": {
        "id": "YNHreK544amG"
      },
      "outputs": [],
      "source": [
        "oneHotEncoder = OneHotEncoder(handle_unknown='ignore', sparse_output=False).set_output(transform='pandas')"
      ]
    },
    {
      "cell_type": "code",
      "execution_count": null,
      "metadata": {
        "id": "WRAXC7n54amH"
      },
      "outputs": [],
      "source": [
        "data_copy = data"
      ]
    },
    {
      "cell_type": "code",
      "execution_count": null,
      "metadata": {
        "id": "WcL1a-Wf4amI"
      },
      "outputs": [],
      "source": [
        "data_copy['Brand'] = labelEncoder.fit_transform(data_copy['Brand'])"
      ]
    },
    {
      "cell_type": "code",
      "execution_count": null,
      "metadata": {
        "id": "7VThX_Us4amJ"
      },
      "outputs": [],
      "source": [
        "data_copy['RapidCharge'] = labelEncoder.fit_transform(data_copy['RapidCharge'])"
      ]
    },
    {
      "cell_type": "code",
      "execution_count": null,
      "metadata": {
        "id": "UyFgIAtv4amK"
      },
      "outputs": [],
      "source": [
        "data_copy['PowerTrain'] = labelEncoder.fit_transform(data_copy['PowerTrain'])"
      ]
    },
    {
      "cell_type": "code",
      "execution_count": null,
      "metadata": {
        "id": "0qieEhGm4amL"
      },
      "outputs": [],
      "source": [
        "data_copy['BodyStyle'] = labelEncoder.fit_transform(data_copy['BodyStyle'])"
      ]
    },
    {
      "cell_type": "code",
      "execution_count": null,
      "metadata": {
        "id": "P94GoCi14amM"
      },
      "outputs": [],
      "source": [
        "data_copy['Segment'] = labelEncoder.fit_transform(data_copy['Segment'])"
      ]
    },
    {
      "cell_type": "code",
      "execution_count": null,
      "metadata": {
        "id": "-QxZ9oHF4amN"
      },
      "outputs": [],
      "source": [
        "data_copy['Model'] = labelEncoder.fit_transform(data_copy['Model'])\n",
        "data_copy['PlugType'] = labelEncoder.fit_transform(data_copy['PlugType'])"
      ]
    },
    {
      "cell_type": "code",
      "execution_count": null,
      "metadata": {
        "id": "9Ao0sYJ24amO",
        "outputId": "3da08a70-3204-41ee-c02a-ed155addf819"
      },
      "outputs": [
        {
          "data": {
            "text/html": [
              "<div>\n",
              "<style scoped>\n",
              "    .dataframe tbody tr th:only-of-type {\n",
              "        vertical-align: middle;\n",
              "    }\n",
              "\n",
              "    .dataframe tbody tr th {\n",
              "        vertical-align: top;\n",
              "    }\n",
              "\n",
              "    .dataframe thead th {\n",
              "        text-align: right;\n",
              "    }\n",
              "</style>\n",
              "<table border=\"1\" class=\"dataframe\">\n",
              "  <thead>\n",
              "    <tr style=\"text-align: right;\">\n",
              "      <th></th>\n",
              "      <th>Brand</th>\n",
              "      <th>Model</th>\n",
              "      <th>AccelSec</th>\n",
              "      <th>TopSpeed_KmH</th>\n",
              "      <th>Range_Km</th>\n",
              "      <th>Efficiency_WhKm</th>\n",
              "      <th>FastCharge_KmH</th>\n",
              "      <th>RapidCharge</th>\n",
              "      <th>PowerTrain</th>\n",
              "      <th>PlugType</th>\n",
              "      <th>BodyStyle</th>\n",
              "      <th>Segment</th>\n",
              "      <th>Seats</th>\n",
              "      <th>PriceEuro</th>\n",
              "    </tr>\n",
              "  </thead>\n",
              "  <tbody>\n",
              "    <tr>\n",
              "      <th>0</th>\n",
              "      <td>30</td>\n",
              "      <td>Model 3 Long Range Dual Motor</td>\n",
              "      <td>4.6</td>\n",
              "      <td>233</td>\n",
              "      <td>450</td>\n",
              "      <td>161</td>\n",
              "      <td>940</td>\n",
              "      <td>1</td>\n",
              "      <td>0</td>\n",
              "      <td>Type 2 CCS</td>\n",
              "      <td>7</td>\n",
              "      <td>3</td>\n",
              "      <td>5</td>\n",
              "      <td>55480</td>\n",
              "    </tr>\n",
              "    <tr>\n",
              "      <th>1</th>\n",
              "      <td>31</td>\n",
              "      <td>ID.3 Pure</td>\n",
              "      <td>10.0</td>\n",
              "      <td>160</td>\n",
              "      <td>270</td>\n",
              "      <td>167</td>\n",
              "      <td>250</td>\n",
              "      <td>1</td>\n",
              "      <td>2</td>\n",
              "      <td>Type 2 CCS</td>\n",
              "      <td>1</td>\n",
              "      <td>2</td>\n",
              "      <td>5</td>\n",
              "      <td>30000</td>\n",
              "    </tr>\n",
              "    <tr>\n",
              "      <th>2</th>\n",
              "      <td>23</td>\n",
              "      <td>2</td>\n",
              "      <td>4.7</td>\n",
              "      <td>210</td>\n",
              "      <td>400</td>\n",
              "      <td>181</td>\n",
              "      <td>620</td>\n",
              "      <td>1</td>\n",
              "      <td>0</td>\n",
              "      <td>Type 2 CCS</td>\n",
              "      <td>2</td>\n",
              "      <td>3</td>\n",
              "      <td>5</td>\n",
              "      <td>56440</td>\n",
              "    </tr>\n",
              "    <tr>\n",
              "      <th>3</th>\n",
              "      <td>2</td>\n",
              "      <td>iX3</td>\n",
              "      <td>6.8</td>\n",
              "      <td>180</td>\n",
              "      <td>360</td>\n",
              "      <td>206</td>\n",
              "      <td>560</td>\n",
              "      <td>1</td>\n",
              "      <td>2</td>\n",
              "      <td>Type 2 CCS</td>\n",
              "      <td>6</td>\n",
              "      <td>3</td>\n",
              "      <td>5</td>\n",
              "      <td>68040</td>\n",
              "    </tr>\n",
              "    <tr>\n",
              "      <th>4</th>\n",
              "      <td>9</td>\n",
              "      <td>e</td>\n",
              "      <td>9.5</td>\n",
              "      <td>145</td>\n",
              "      <td>170</td>\n",
              "      <td>168</td>\n",
              "      <td>190</td>\n",
              "      <td>1</td>\n",
              "      <td>2</td>\n",
              "      <td>Type 2 CCS</td>\n",
              "      <td>1</td>\n",
              "      <td>1</td>\n",
              "      <td>4</td>\n",
              "      <td>32997</td>\n",
              "    </tr>\n",
              "  </tbody>\n",
              "</table>\n",
              "</div>"
            ],
            "text/plain": [
              "   Brand                          Model  AccelSec  TopSpeed_KmH  Range_Km  \\\n",
              "0     30  Model 3 Long Range Dual Motor       4.6           233       450   \n",
              "1     31                      ID.3 Pure      10.0           160       270   \n",
              "2     23                              2       4.7           210       400   \n",
              "3      2                           iX3        6.8           180       360   \n",
              "4      9                             e        9.5           145       170   \n",
              "\n",
              "   Efficiency_WhKm FastCharge_KmH  RapidCharge  PowerTrain    PlugType  \\\n",
              "0              161            940            1           0  Type 2 CCS   \n",
              "1              167            250            1           2  Type 2 CCS   \n",
              "2              181            620            1           0  Type 2 CCS   \n",
              "3              206            560            1           2  Type 2 CCS   \n",
              "4              168            190            1           2  Type 2 CCS   \n",
              "\n",
              "   BodyStyle  Segment  Seats  PriceEuro  \n",
              "0          7        3      5      55480  \n",
              "1          1        2      5      30000  \n",
              "2          2        3      5      56440  \n",
              "3          6        3      5      68040  \n",
              "4          1        1      4      32997  "
            ]
          },
          "execution_count": 31,
          "metadata": {},
          "output_type": "execute_result"
        }
      ],
      "source": [
        "data_copy.head()"
      ]
    },
    {
      "cell_type": "code",
      "execution_count": null,
      "metadata": {
        "id": "K9QK1BlO4amV"
      },
      "outputs": [],
      "source": []
    },
    {
      "cell_type": "code",
      "execution_count": null,
      "metadata": {
        "id": "QfxZcjUA4amW",
        "outputId": "bbf23313-1287-40bb-e7c2-8dd446fd52bf"
      },
      "outputs": [
        {
          "data": {
            "text/html": [
              "<div>\n",
              "<style scoped>\n",
              "    .dataframe tbody tr th:only-of-type {\n",
              "        vertical-align: middle;\n",
              "    }\n",
              "\n",
              "    .dataframe tbody tr th {\n",
              "        vertical-align: top;\n",
              "    }\n",
              "\n",
              "    .dataframe thead th {\n",
              "        text-align: right;\n",
              "    }\n",
              "</style>\n",
              "<table border=\"1\" class=\"dataframe\">\n",
              "  <thead>\n",
              "    <tr style=\"text-align: right;\">\n",
              "      <th></th>\n",
              "      <th>Brand</th>\n",
              "      <th>Model</th>\n",
              "      <th>AccelSec</th>\n",
              "      <th>TopSpeed_KmH</th>\n",
              "      <th>Range_Km</th>\n",
              "      <th>Efficiency_WhKm</th>\n",
              "      <th>FastCharge_KmH</th>\n",
              "      <th>RapidCharge</th>\n",
              "      <th>PowerTrain</th>\n",
              "      <th>PlugType</th>\n",
              "      <th>BodyStyle</th>\n",
              "      <th>Segment</th>\n",
              "      <th>Seats</th>\n",
              "      <th>PriceEuro</th>\n",
              "    </tr>\n",
              "  </thead>\n",
              "  <tbody>\n",
              "    <tr>\n",
              "      <th>0</th>\n",
              "      <td>30</td>\n",
              "      <td>46</td>\n",
              "      <td>4.6</td>\n",
              "      <td>233</td>\n",
              "      <td>450</td>\n",
              "      <td>161</td>\n",
              "      <td>940</td>\n",
              "      <td>1</td>\n",
              "      <td>0</td>\n",
              "      <td>2</td>\n",
              "      <td>7</td>\n",
              "      <td>3</td>\n",
              "      <td>5</td>\n",
              "      <td>55480</td>\n",
              "    </tr>\n",
              "    <tr>\n",
              "      <th>1</th>\n",
              "      <td>31</td>\n",
              "      <td>33</td>\n",
              "      <td>10.0</td>\n",
              "      <td>160</td>\n",
              "      <td>270</td>\n",
              "      <td>167</td>\n",
              "      <td>250</td>\n",
              "      <td>1</td>\n",
              "      <td>2</td>\n",
              "      <td>2</td>\n",
              "      <td>1</td>\n",
              "      <td>2</td>\n",
              "      <td>5</td>\n",
              "      <td>30000</td>\n",
              "    </tr>\n",
              "    <tr>\n",
              "      <th>2</th>\n",
              "      <td>23</td>\n",
              "      <td>0</td>\n",
              "      <td>4.7</td>\n",
              "      <td>210</td>\n",
              "      <td>400</td>\n",
              "      <td>181</td>\n",
              "      <td>620</td>\n",
              "      <td>1</td>\n",
              "      <td>0</td>\n",
              "      <td>2</td>\n",
              "      <td>2</td>\n",
              "      <td>3</td>\n",
              "      <td>5</td>\n",
              "      <td>56440</td>\n",
              "    </tr>\n",
              "    <tr>\n",
              "      <th>3</th>\n",
              "      <td>2</td>\n",
              "      <td>101</td>\n",
              "      <td>6.8</td>\n",
              "      <td>180</td>\n",
              "      <td>360</td>\n",
              "      <td>206</td>\n",
              "      <td>560</td>\n",
              "      <td>1</td>\n",
              "      <td>2</td>\n",
              "      <td>2</td>\n",
              "      <td>6</td>\n",
              "      <td>3</td>\n",
              "      <td>5</td>\n",
              "      <td>68040</td>\n",
              "    </tr>\n",
              "    <tr>\n",
              "      <th>4</th>\n",
              "      <td>9</td>\n",
              "      <td>78</td>\n",
              "      <td>9.5</td>\n",
              "      <td>145</td>\n",
              "      <td>170</td>\n",
              "      <td>168</td>\n",
              "      <td>190</td>\n",
              "      <td>1</td>\n",
              "      <td>2</td>\n",
              "      <td>2</td>\n",
              "      <td>1</td>\n",
              "      <td>1</td>\n",
              "      <td>4</td>\n",
              "      <td>32997</td>\n",
              "    </tr>\n",
              "  </tbody>\n",
              "</table>\n",
              "</div>"
            ],
            "text/plain": [
              "   Brand  Model  AccelSec  TopSpeed_KmH  Range_Km  Efficiency_WhKm  \\\n",
              "0     30     46       4.6           233       450              161   \n",
              "1     31     33      10.0           160       270              167   \n",
              "2     23      0       4.7           210       400              181   \n",
              "3      2    101       6.8           180       360              206   \n",
              "4      9     78       9.5           145       170              168   \n",
              "\n",
              "  FastCharge_KmH  RapidCharge  PowerTrain  PlugType  BodyStyle  Segment  \\\n",
              "0            940            1           0         2          7        3   \n",
              "1            250            1           2         2          1        2   \n",
              "2            620            1           0         2          2        3   \n",
              "3            560            1           2         2          6        3   \n",
              "4            190            1           2         2          1        1   \n",
              "\n",
              "   Seats  PriceEuro  \n",
              "0      5      55480  \n",
              "1      5      30000  \n",
              "2      5      56440  \n",
              "3      5      68040  \n",
              "4      4      32997  "
            ]
          },
          "execution_count": 33,
          "metadata": {},
          "output_type": "execute_result"
        }
      ],
      "source": [
        "data.head()"
      ]
    },
    {
      "cell_type": "code",
      "execution_count": null,
      "metadata": {
        "id": "4KfgkFKn4amu"
      },
      "outputs": [],
      "source": [
        "data_copy['FastCharge_KmH'] = data['FastCharge_KmH'].replace('-', 0)\n",
        "data_copy['FastCharge_KmH'] = pd.to_numeric(data_copy['FastCharge_KmH'])"
      ]
    },
    {
      "cell_type": "markdown",
      "metadata": {
        "id": "ZaeQsLIV4CS5"
      },
      "source": [
        "## Split the dataset for training and testing in ratio 80:20"
      ]
    },
    {
      "cell_type": "code",
      "execution_count": null,
      "metadata": {
        "id": "i_z6kdYd4amw"
      },
      "outputs": [],
      "source": [
        "from sklearn.model_selection import train_test_split"
      ]
    },
    {
      "cell_type": "code",
      "execution_count": null,
      "metadata": {
        "id": "K-96SSek4amy"
      },
      "outputs": [],
      "source": [
        "X = data.drop('PriceEuro', axis=1)\n",
        "y = data['PriceEuro'].values.ravel()"
      ]
    },
    {
      "cell_type": "code",
      "execution_count": null,
      "metadata": {
        "id": "2vOoEUDH4amz"
      },
      "outputs": [],
      "source": [
        "X_train, X_test, y_train, y_test = train_test_split(X, y, test_size=0.2, random_state=42)"
      ]
    },
    {
      "cell_type": "markdown",
      "metadata": {
        "id": "MAwYp-8O5ieU"
      },
      "source": [
        "## Initialize the DecisionTreeRegressor model, and use the fit function for training the model.\n",
        "\n",
        "Add values for the parameters max_depth, min_samples_split, and max_features."
      ]
    },
    {
      "cell_type": "markdown",
      "metadata": {
        "id": "GkrmN30657S6"
      },
      "source": [
        "Fit the model using the fit function\n"
      ]
    },
    {
      "cell_type": "code",
      "execution_count": null,
      "metadata": {
        "id": "6mIJ5b7Z4am2",
        "outputId": "f18c9296-1465-4917-8073-73c416b8df54"
      },
      "outputs": [
        {
          "name": "stdout",
          "output_type": "stream",
          "text": [
            "Requirement already satisfied: numpy in c:\\users\\teona\\miniconda3\\envs\\myenv\\lib\\site-packages (1.26.2)\n",
            "Note: you may need to restart the kernel to use updated packages.\n"
          ]
        }
      ],
      "source": [
        "pip install numpy"
      ]
    },
    {
      "cell_type": "code",
      "execution_count": null,
      "metadata": {
        "id": "L1av3xed55AX"
      },
      "outputs": [],
      "source": [
        "from sklearn.tree import DecisionTreeRegressor\n",
        "import numpy as np"
      ]
    },
    {
      "cell_type": "code",
      "execution_count": null,
      "metadata": {
        "id": "qVLgMvWT4am4",
        "outputId": "3a2fa7d6-76b6-4b61-d7d7-391f873e6877"
      },
      "outputs": [
        {
          "data": {
            "text/html": [
              "<style>#sk-container-id-1 {color: black;}#sk-container-id-1 pre{padding: 0;}#sk-container-id-1 div.sk-toggleable {background-color: white;}#sk-container-id-1 label.sk-toggleable__label {cursor: pointer;display: block;width: 100%;margin-bottom: 0;padding: 0.3em;box-sizing: border-box;text-align: center;}#sk-container-id-1 label.sk-toggleable__label-arrow:before {content: \"▸\";float: left;margin-right: 0.25em;color: #696969;}#sk-container-id-1 label.sk-toggleable__label-arrow:hover:before {color: black;}#sk-container-id-1 div.sk-estimator:hover label.sk-toggleable__label-arrow:before {color: black;}#sk-container-id-1 div.sk-toggleable__content {max-height: 0;max-width: 0;overflow: hidden;text-align: left;background-color: #f0f8ff;}#sk-container-id-1 div.sk-toggleable__content pre {margin: 0.2em;color: black;border-radius: 0.25em;background-color: #f0f8ff;}#sk-container-id-1 input.sk-toggleable__control:checked~div.sk-toggleable__content {max-height: 200px;max-width: 100%;overflow: auto;}#sk-container-id-1 input.sk-toggleable__control:checked~label.sk-toggleable__label-arrow:before {content: \"▾\";}#sk-container-id-1 div.sk-estimator input.sk-toggleable__control:checked~label.sk-toggleable__label {background-color: #d4ebff;}#sk-container-id-1 div.sk-label input.sk-toggleable__control:checked~label.sk-toggleable__label {background-color: #d4ebff;}#sk-container-id-1 input.sk-hidden--visually {border: 0;clip: rect(1px 1px 1px 1px);clip: rect(1px, 1px, 1px, 1px);height: 1px;margin: -1px;overflow: hidden;padding: 0;position: absolute;width: 1px;}#sk-container-id-1 div.sk-estimator {font-family: monospace;background-color: #f0f8ff;border: 1px dotted black;border-radius: 0.25em;box-sizing: border-box;margin-bottom: 0.5em;}#sk-container-id-1 div.sk-estimator:hover {background-color: #d4ebff;}#sk-container-id-1 div.sk-parallel-item::after {content: \"\";width: 100%;border-bottom: 1px solid gray;flex-grow: 1;}#sk-container-id-1 div.sk-label:hover label.sk-toggleable__label {background-color: #d4ebff;}#sk-container-id-1 div.sk-serial::before {content: \"\";position: absolute;border-left: 1px solid gray;box-sizing: border-box;top: 0;bottom: 0;left: 50%;z-index: 0;}#sk-container-id-1 div.sk-serial {display: flex;flex-direction: column;align-items: center;background-color: white;padding-right: 0.2em;padding-left: 0.2em;position: relative;}#sk-container-id-1 div.sk-item {position: relative;z-index: 1;}#sk-container-id-1 div.sk-parallel {display: flex;align-items: stretch;justify-content: center;background-color: white;position: relative;}#sk-container-id-1 div.sk-item::before, #sk-container-id-1 div.sk-parallel-item::before {content: \"\";position: absolute;border-left: 1px solid gray;box-sizing: border-box;top: 0;bottom: 0;left: 50%;z-index: -1;}#sk-container-id-1 div.sk-parallel-item {display: flex;flex-direction: column;z-index: 1;position: relative;background-color: white;}#sk-container-id-1 div.sk-parallel-item:first-child::after {align-self: flex-end;width: 50%;}#sk-container-id-1 div.sk-parallel-item:last-child::after {align-self: flex-start;width: 50%;}#sk-container-id-1 div.sk-parallel-item:only-child::after {width: 0;}#sk-container-id-1 div.sk-dashed-wrapped {border: 1px dashed gray;margin: 0 0.4em 0.5em 0.4em;box-sizing: border-box;padding-bottom: 0.4em;background-color: white;}#sk-container-id-1 div.sk-label label {font-family: monospace;font-weight: bold;display: inline-block;line-height: 1.2em;}#sk-container-id-1 div.sk-label-container {text-align: center;}#sk-container-id-1 div.sk-container {/* jupyter's `normalize.less` sets `[hidden] { display: none; }` but bootstrap.min.css set `[hidden] { display: none !important; }` so we also need the `!important` here to be able to override the default hidden behavior on the sphinx rendered scikit-learn.org. See: https://github.com/scikit-learn/scikit-learn/issues/21755 */display: inline-block !important;position: relative;}#sk-container-id-1 div.sk-text-repr-fallback {display: none;}</style><div id=\"sk-container-id-1\" class=\"sk-top-container\"><div class=\"sk-text-repr-fallback\"><pre>DecisionTreeRegressor(max_depth=10, max_features=&#x27;sqrt&#x27;)</pre><b>In a Jupyter environment, please rerun this cell to show the HTML representation or trust the notebook. <br />On GitHub, the HTML representation is unable to render, please try loading this page with nbviewer.org.</b></div><div class=\"sk-container\" hidden><div class=\"sk-item\"><div class=\"sk-estimator sk-toggleable\"><input class=\"sk-toggleable__control sk-hidden--visually\" id=\"sk-estimator-id-1\" type=\"checkbox\" checked><label for=\"sk-estimator-id-1\" class=\"sk-toggleable__label sk-toggleable__label-arrow\">DecisionTreeRegressor</label><div class=\"sk-toggleable__content\"><pre>DecisionTreeRegressor(max_depth=10, max_features=&#x27;sqrt&#x27;)</pre></div></div></div></div></div>"
            ],
            "text/plain": [
              "DecisionTreeRegressor(max_depth=10, max_features='sqrt')"
            ]
          },
          "execution_count": 46,
          "metadata": {},
          "output_type": "execute_result"
        }
      ],
      "source": [
        "regressor = DecisionTreeRegressor(max_depth=10, min_samples_split=2, max_features='sqrt')\n",
        "regressor.fit(X_train, y_train)"
      ]
    },
    {
      "cell_type": "markdown",
      "metadata": {
        "id": "PUosxgf-59z0"
      },
      "source": [
        "## Predict the outcomes for X test"
      ]
    },
    {
      "cell_type": "code",
      "execution_count": null,
      "metadata": {
        "id": "xCHgJ9kc5_u5"
      },
      "outputs": [],
      "source": [
        "y_pred = regressor.predict(X_test)"
      ]
    },
    {
      "cell_type": "markdown",
      "metadata": {
        "id": "vSwumlmu6ADR"
      },
      "source": [
        "## Assess the model performance, by using sklearn metrics for regression"
      ]
    },
    {
      "cell_type": "code",
      "execution_count": null,
      "metadata": {
        "id": "M-qGByhq4am8",
        "outputId": "cb259ac3-1bf1-421f-89a4-1f6bd255b320"
      },
      "outputs": [
        {
          "name": "stdout",
          "output_type": "stream",
          "text": [
            "Collecting xgboost\n",
            "  Downloading xgboost-2.0.2-py3-none-win_amd64.whl.metadata (2.0 kB)\n",
            "Requirement already satisfied: numpy in c:\\users\\teona\\miniconda3\\envs\\myenv\\lib\\site-packages (from xgboost) (1.26.2)\n",
            "Requirement already satisfied: scipy in c:\\users\\teona\\miniconda3\\envs\\myenv\\lib\\site-packages (from xgboost) (1.11.4)\n",
            "Downloading xgboost-2.0.2-py3-none-win_amd64.whl (99.8 MB)\n",
            "   ---------------------------------------- 0.0/99.8 MB ? eta -:--:--\n",
            "   ---------------------------------------- 0.0/99.8 MB 1.4 MB/s eta 0:01:14\n",
            "   ---------------------------------------- 0.1/99.8 MB 880.9 kB/s eta 0:01:54\n",
            "   ---------------------------------------- 0.1/99.8 MB 819.2 kB/s eta 0:02:02\n",
            "   ---------------------------------------- 0.2/99.8 MB 919.0 kB/s eta 0:01:49\n",
            "   ---------------------------------------- 0.2/99.8 MB 1.0 MB/s eta 0:01:37\n",
            "   ---------------------------------------- 0.4/99.8 MB 1.2 MB/s eta 0:01:21\n",
            "   ---------------------------------------- 0.5/99.8 MB 1.6 MB/s eta 0:01:01\n",
            "   ---------------------------------------- 0.7/99.8 MB 1.8 MB/s eta 0:00:55\n",
            "   ---------------------------------------- 0.9/99.8 MB 2.0 MB/s eta 0:00:49\n",
            "   ---------------------------------------- 1.0/99.8 MB 2.2 MB/s eta 0:00:45\n",
            "   ---------------------------------------- 1.2/99.8 MB 2.3 MB/s eta 0:00:43\n",
            "    --------------------------------------- 1.4/99.8 MB 2.4 MB/s eta 0:00:42\n",
            "    --------------------------------------- 1.5/99.8 MB 2.5 MB/s eta 0:00:40\n",
            "    --------------------------------------- 1.7/99.8 MB 2.6 MB/s eta 0:00:38\n",
            "    --------------------------------------- 1.9/99.8 MB 2.6 MB/s eta 0:00:38\n",
            "    --------------------------------------- 2.1/99.8 MB 2.8 MB/s eta 0:00:35\n",
            "    --------------------------------------- 2.2/99.8 MB 2.9 MB/s eta 0:00:35\n",
            "    --------------------------------------- 2.4/99.8 MB 2.9 MB/s eta 0:00:34\n",
            "   - -------------------------------------- 2.6/99.8 MB 2.9 MB/s eta 0:00:34\n",
            "   - -------------------------------------- 2.7/99.8 MB 3.0 MB/s eta 0:00:33\n",
            "   - -------------------------------------- 2.8/99.8 MB 2.9 MB/s eta 0:00:34\n",
            "   - -------------------------------------- 3.0/99.8 MB 3.0 MB/s eta 0:00:33\n",
            "   - -------------------------------------- 3.2/99.8 MB 3.0 MB/s eta 0:00:33\n",
            "   - -------------------------------------- 3.4/99.8 MB 3.0 MB/s eta 0:00:32\n",
            "   - -------------------------------------- 3.6/99.8 MB 3.0 MB/s eta 0:00:32\n",
            "   - -------------------------------------- 3.7/99.8 MB 3.1 MB/s eta 0:00:32\n",
            "   - -------------------------------------- 3.9/99.8 MB 3.1 MB/s eta 0:00:31\n",
            "   - -------------------------------------- 4.2/99.8 MB 3.2 MB/s eta 0:00:30\n",
            "   - -------------------------------------- 4.4/99.8 MB 3.3 MB/s eta 0:00:29\n",
            "   - -------------------------------------- 4.6/99.8 MB 3.3 MB/s eta 0:00:29\n",
            "   - -------------------------------------- 4.8/99.8 MB 3.3 MB/s eta 0:00:29\n",
            "   -- ------------------------------------- 5.1/99.8 MB 3.4 MB/s eta 0:00:28\n",
            "   -- ------------------------------------- 5.2/99.8 MB 3.4 MB/s eta 0:00:29\n",
            "   -- ------------------------------------- 5.3/99.8 MB 3.4 MB/s eta 0:00:28\n",
            "   -- ------------------------------------- 5.4/99.8 MB 3.3 MB/s eta 0:00:29\n",
            "   -- ------------------------------------- 5.7/99.8 MB 3.4 MB/s eta 0:00:28\n",
            "   -- ------------------------------------- 5.9/99.8 MB 3.4 MB/s eta 0:00:28\n",
            "   -- ------------------------------------- 6.0/99.8 MB 3.4 MB/s eta 0:00:28\n",
            "   -- ------------------------------------- 6.1/99.8 MB 3.4 MB/s eta 0:00:28\n",
            "   -- ------------------------------------- 6.3/99.8 MB 3.4 MB/s eta 0:00:28\n",
            "   -- ------------------------------------- 6.5/99.8 MB 3.4 MB/s eta 0:00:28\n",
            "   -- ------------------------------------- 6.6/99.8 MB 3.4 MB/s eta 0:00:28\n",
            "   -- ------------------------------------- 6.8/99.8 MB 3.4 MB/s eta 0:00:28\n",
            "   -- ------------------------------------- 6.9/99.8 MB 3.4 MB/s eta 0:00:28\n",
            "   -- ------------------------------------- 7.0/99.8 MB 3.3 MB/s eta 0:00:28\n",
            "   -- ------------------------------------- 7.1/99.8 MB 3.3 MB/s eta 0:00:28\n",
            "   -- ------------------------------------- 7.3/99.8 MB 3.3 MB/s eta 0:00:28\n",
            "   --- ------------------------------------ 7.5/99.8 MB 3.4 MB/s eta 0:00:28\n",
            "   --- ------------------------------------ 7.7/99.8 MB 3.4 MB/s eta 0:00:28\n",
            "   --- ------------------------------------ 8.0/99.8 MB 3.4 MB/s eta 0:00:27\n",
            "   --- ------------------------------------ 8.1/99.8 MB 3.4 MB/s eta 0:00:27\n",
            "   --- ------------------------------------ 8.3/99.8 MB 3.4 MB/s eta 0:00:27\n",
            "   --- ------------------------------------ 8.5/99.8 MB 3.4 MB/s eta 0:00:27\n",
            "   --- ------------------------------------ 8.7/99.8 MB 3.4 MB/s eta 0:00:27\n",
            "   --- ------------------------------------ 8.8/99.8 MB 3.4 MB/s eta 0:00:27\n",
            "   --- ------------------------------------ 9.1/99.8 MB 3.5 MB/s eta 0:00:27\n",
            "   --- ------------------------------------ 9.2/99.8 MB 3.5 MB/s eta 0:00:27\n",
            "   --- ------------------------------------ 9.5/99.8 MB 3.5 MB/s eta 0:00:26\n",
            "   --- ------------------------------------ 9.7/99.8 MB 3.5 MB/s eta 0:00:26\n",
            "   --- ------------------------------------ 9.9/99.8 MB 3.5 MB/s eta 0:00:26\n",
            "   ---- ----------------------------------- 10.1/99.8 MB 3.6 MB/s eta 0:00:26\n",
            "   ---- ----------------------------------- 10.3/99.8 MB 3.6 MB/s eta 0:00:25\n",
            "   ---- ----------------------------------- 10.5/99.8 MB 3.8 MB/s eta 0:00:24\n",
            "   ---- ----------------------------------- 10.7/99.8 MB 3.8 MB/s eta 0:00:24\n",
            "   ---- ----------------------------------- 10.8/99.8 MB 3.8 MB/s eta 0:00:24\n",
            "   ---- ----------------------------------- 11.0/99.8 MB 3.8 MB/s eta 0:00:24\n",
            "   ---- ----------------------------------- 11.2/99.8 MB 3.8 MB/s eta 0:00:24\n",
            "   ---- ----------------------------------- 11.3/99.8 MB 3.8 MB/s eta 0:00:24\n",
            "   ---- ----------------------------------- 11.4/99.8 MB 3.8 MB/s eta 0:00:24\n",
            "   ---- ----------------------------------- 11.5/99.8 MB 3.8 MB/s eta 0:00:24\n",
            "   ---- ----------------------------------- 11.6/99.8 MB 3.7 MB/s eta 0:00:24\n",
            "   ---- ----------------------------------- 11.8/99.8 MB 3.7 MB/s eta 0:00:24\n",
            "   ---- ----------------------------------- 11.9/99.8 MB 3.7 MB/s eta 0:00:24\n",
            "   ---- ----------------------------------- 12.0/99.8 MB 3.7 MB/s eta 0:00:25\n",
            "   ---- ----------------------------------- 12.0/99.8 MB 3.7 MB/s eta 0:00:24\n",
            "   ---- ----------------------------------- 12.1/99.8 MB 3.6 MB/s eta 0:00:25\n",
            "   ---- ----------------------------------- 12.1/99.8 MB 3.6 MB/s eta 0:00:25\n",
            "   ---- ----------------------------------- 12.1/99.8 MB 3.6 MB/s eta 0:00:25\n",
            "   ---- ----------------------------------- 12.1/99.8 MB 3.6 MB/s eta 0:00:25\n",
            "   ---- ----------------------------------- 12.2/99.8 MB 3.4 MB/s eta 0:00:26\n",
            "   ----- ---------------------------------- 13.1/99.8 MB 3.7 MB/s eta 0:00:24\n",
            "   ----- ---------------------------------- 13.4/99.8 MB 3.7 MB/s eta 0:00:24\n",
            "   ----- ---------------------------------- 13.6/99.8 MB 3.8 MB/s eta 0:00:23\n",
            "   ----- ---------------------------------- 13.9/99.8 MB 3.8 MB/s eta 0:00:23\n",
            "   ----- ---------------------------------- 14.1/99.8 MB 3.8 MB/s eta 0:00:23\n",
            "   ----- ---------------------------------- 14.2/99.8 MB 3.7 MB/s eta 0:00:23\n",
            "   ----- ---------------------------------- 14.4/99.8 MB 3.7 MB/s eta 0:00:23\n",
            "   ----- ---------------------------------- 14.6/99.8 MB 3.7 MB/s eta 0:00:24\n",
            "   ----- ---------------------------------- 14.8/99.8 MB 3.7 MB/s eta 0:00:23\n",
            "   ------ --------------------------------- 15.0/99.8 MB 3.7 MB/s eta 0:00:23\n",
            "   ------ --------------------------------- 15.3/99.8 MB 3.7 MB/s eta 0:00:23\n",
            "   ------ --------------------------------- 15.5/99.8 MB 3.8 MB/s eta 0:00:23\n",
            "   ------ --------------------------------- 15.6/99.8 MB 3.8 MB/s eta 0:00:23\n",
            "   ------ --------------------------------- 15.8/99.8 MB 3.8 MB/s eta 0:00:23\n",
            "   ------ --------------------------------- 15.9/99.8 MB 3.7 MB/s eta 0:00:23\n",
            "   ------ --------------------------------- 16.1/99.8 MB 3.7 MB/s eta 0:00:23\n",
            "   ------ --------------------------------- 16.4/99.8 MB 3.8 MB/s eta 0:00:23\n",
            "   ------ --------------------------------- 16.6/99.8 MB 3.8 MB/s eta 0:00:22\n",
            "   ------ --------------------------------- 16.8/99.8 MB 3.8 MB/s eta 0:00:22\n",
            "   ------ --------------------------------- 17.0/99.8 MB 3.9 MB/s eta 0:00:22\n",
            "   ------ --------------------------------- 17.2/99.8 MB 3.9 MB/s eta 0:00:22\n",
            "   ------ --------------------------------- 17.4/99.8 MB 3.9 MB/s eta 0:00:21\n",
            "   ------- -------------------------------- 17.6/99.8 MB 4.0 MB/s eta 0:00:21\n",
            "   ------- -------------------------------- 17.7/99.8 MB 4.0 MB/s eta 0:00:21\n",
            "   ------- -------------------------------- 17.9/99.8 MB 3.9 MB/s eta 0:00:21\n",
            "   ------- -------------------------------- 18.1/99.8 MB 3.9 MB/s eta 0:00:21\n",
            "   ------- -------------------------------- 18.4/99.8 MB 3.9 MB/s eta 0:00:21\n",
            "   ------- -------------------------------- 18.5/99.8 MB 3.9 MB/s eta 0:00:21\n",
            "   ------- -------------------------------- 18.8/99.8 MB 3.9 MB/s eta 0:00:21\n",
            "   ------- -------------------------------- 19.0/99.8 MB 4.0 MB/s eta 0:00:21\n",
            "   ------- -------------------------------- 19.1/99.8 MB 3.9 MB/s eta 0:00:21\n",
            "   ------- -------------------------------- 19.3/99.8 MB 3.9 MB/s eta 0:00:21\n",
            "   ------- -------------------------------- 19.4/99.8 MB 3.9 MB/s eta 0:00:21\n",
            "   ------- -------------------------------- 19.7/99.8 MB 3.9 MB/s eta 0:00:21\n",
            "   ------- -------------------------------- 19.9/99.8 MB 3.9 MB/s eta 0:00:21\n",
            "   -------- ------------------------------- 20.1/99.8 MB 3.9 MB/s eta 0:00:21\n",
            "   -------- ------------------------------- 20.3/99.8 MB 3.9 MB/s eta 0:00:21\n",
            "   -------- ------------------------------- 20.5/99.8 MB 3.9 MB/s eta 0:00:21\n",
            "   -------- ------------------------------- 20.8/99.8 MB 4.0 MB/s eta 0:00:20\n",
            "   -------- ------------------------------- 21.1/99.8 MB 4.0 MB/s eta 0:00:20\n",
            "   -------- ------------------------------- 21.4/99.8 MB 4.1 MB/s eta 0:00:20\n",
            "   -------- ------------------------------- 21.7/99.8 MB 4.1 MB/s eta 0:00:20\n",
            "   -------- ------------------------------- 21.8/99.8 MB 4.2 MB/s eta 0:00:19\n",
            "   -------- ------------------------------- 22.0/99.8 MB 4.2 MB/s eta 0:00:19\n",
            "   -------- ------------------------------- 22.3/99.8 MB 4.4 MB/s eta 0:00:18\n",
            "   --------- ------------------------------ 22.5/99.8 MB 4.7 MB/s eta 0:00:17\n",
            "   --------- ------------------------------ 22.7/99.8 MB 4.7 MB/s eta 0:00:17\n",
            "   --------- ------------------------------ 22.9/99.8 MB 4.6 MB/s eta 0:00:17\n",
            "   --------- ------------------------------ 23.0/99.8 MB 4.5 MB/s eta 0:00:18\n",
            "   --------- ------------------------------ 23.1/99.8 MB 4.4 MB/s eta 0:00:18\n",
            "   --------- ------------------------------ 23.3/99.8 MB 4.4 MB/s eta 0:00:18\n",
            "   --------- ------------------------------ 23.4/99.8 MB 4.3 MB/s eta 0:00:18\n",
            "   --------- ------------------------------ 23.7/99.8 MB 4.3 MB/s eta 0:00:18\n",
            "   --------- ------------------------------ 23.8/99.8 MB 4.2 MB/s eta 0:00:18\n",
            "   --------- ------------------------------ 24.0/99.8 MB 4.3 MB/s eta 0:00:18\n",
            "   --------- ------------------------------ 24.2/99.8 MB 4.2 MB/s eta 0:00:18\n",
            "   --------- ------------------------------ 24.4/99.8 MB 4.2 MB/s eta 0:00:18\n",
            "   --------- ------------------------------ 24.7/99.8 MB 4.3 MB/s eta 0:00:18\n",
            "   --------- ------------------------------ 24.8/99.8 MB 4.3 MB/s eta 0:00:18\n",
            "   ---------- ----------------------------- 25.1/99.8 MB 4.3 MB/s eta 0:00:18\n",
            "   ---------- ----------------------------- 25.2/99.8 MB 4.2 MB/s eta 0:00:18\n",
            "   ---------- ----------------------------- 25.3/99.8 MB 4.2 MB/s eta 0:00:18\n",
            "   ---------- ----------------------------- 25.6/99.8 MB 4.2 MB/s eta 0:00:18\n",
            "   ---------- ----------------------------- 25.8/99.8 MB 4.2 MB/s eta 0:00:18\n",
            "   ---------- ----------------------------- 26.0/99.8 MB 4.2 MB/s eta 0:00:18\n",
            "   ---------- ----------------------------- 26.2/99.8 MB 4.3 MB/s eta 0:00:18\n",
            "   ---------- ----------------------------- 26.5/99.8 MB 4.3 MB/s eta 0:00:18\n",
            "   ---------- ----------------------------- 26.7/99.8 MB 4.3 MB/s eta 0:00:17\n",
            "   ---------- ----------------------------- 26.9/99.8 MB 4.3 MB/s eta 0:00:17\n",
            "   ---------- ----------------------------- 27.2/99.8 MB 4.3 MB/s eta 0:00:17\n",
            "   ---------- ----------------------------- 27.4/99.8 MB 4.3 MB/s eta 0:00:17\n",
            "   ----------- ---------------------------- 27.6/99.8 MB 4.3 MB/s eta 0:00:17\n",
            "   ----------- ---------------------------- 27.9/99.8 MB 4.4 MB/s eta 0:00:17\n",
            "   ----------- ---------------------------- 28.1/99.8 MB 4.4 MB/s eta 0:00:17\n",
            "   ----------- ---------------------------- 28.3/99.8 MB 4.4 MB/s eta 0:00:17\n",
            "   ----------- ---------------------------- 28.4/99.8 MB 4.4 MB/s eta 0:00:17\n",
            "   ----------- ---------------------------- 28.6/99.8 MB 4.4 MB/s eta 0:00:17\n",
            "   ----------- ---------------------------- 28.8/99.8 MB 4.3 MB/s eta 0:00:17\n",
            "   ----------- ---------------------------- 28.9/99.8 MB 4.3 MB/s eta 0:00:17\n",
            "   ----------- ---------------------------- 29.1/99.8 MB 4.3 MB/s eta 0:00:17\n",
            "   ----------- ---------------------------- 29.3/99.8 MB 4.4 MB/s eta 0:00:17\n",
            "   ----------- ---------------------------- 29.5/99.8 MB 4.4 MB/s eta 0:00:17\n",
            "   ----------- ---------------------------- 29.8/99.8 MB 4.4 MB/s eta 0:00:16\n",
            "   ------------ --------------------------- 30.0/99.8 MB 4.3 MB/s eta 0:00:17\n",
            "   ------------ --------------------------- 30.3/99.8 MB 4.4 MB/s eta 0:00:16\n",
            "   ------------ --------------------------- 30.5/99.8 MB 4.4 MB/s eta 0:00:16\n",
            "   ------------ --------------------------- 30.7/99.8 MB 4.4 MB/s eta 0:00:16\n",
            "   ------------ --------------------------- 30.8/99.8 MB 4.4 MB/s eta 0:00:16\n",
            "   ------------ --------------------------- 31.0/99.8 MB 4.4 MB/s eta 0:00:16\n",
            "   ------------ --------------------------- 31.1/99.8 MB 4.3 MB/s eta 0:00:17\n",
            "   ------------ --------------------------- 31.3/99.8 MB 4.3 MB/s eta 0:00:17\n",
            "   ------------ --------------------------- 31.4/99.8 MB 4.3 MB/s eta 0:00:17\n",
            "   ------------ --------------------------- 31.6/99.8 MB 4.2 MB/s eta 0:00:17\n",
            "   ------------ --------------------------- 31.8/99.8 MB 4.2 MB/s eta 0:00:17\n",
            "   ------------ --------------------------- 31.9/99.8 MB 4.2 MB/s eta 0:00:17\n",
            "   ------------ --------------------------- 32.1/99.8 MB 4.2 MB/s eta 0:00:17\n",
            "   ------------ --------------------------- 32.3/99.8 MB 4.1 MB/s eta 0:00:17\n",
            "   ------------ --------------------------- 32.4/99.8 MB 4.1 MB/s eta 0:00:17\n",
            "   ------------- -------------------------- 32.5/99.8 MB 4.1 MB/s eta 0:00:17\n",
            "   ------------- -------------------------- 32.7/99.8 MB 4.1 MB/s eta 0:00:17\n",
            "   ------------- -------------------------- 32.8/99.8 MB 4.0 MB/s eta 0:00:17\n",
            "   ------------- -------------------------- 33.0/99.8 MB 4.0 MB/s eta 0:00:17\n",
            "   ------------- -------------------------- 33.2/99.8 MB 4.1 MB/s eta 0:00:17\n",
            "   ------------- -------------------------- 33.4/99.8 MB 4.1 MB/s eta 0:00:17\n",
            "   ------------- -------------------------- 33.6/99.8 MB 4.1 MB/s eta 0:00:17\n",
            "   ------------- -------------------------- 33.9/99.8 MB 4.1 MB/s eta 0:00:16\n",
            "   ------------- -------------------------- 34.1/99.8 MB 4.1 MB/s eta 0:00:16\n",
            "   ------------- -------------------------- 34.4/99.8 MB 4.2 MB/s eta 0:00:16\n",
            "   ------------- -------------------------- 34.6/99.8 MB 4.1 MB/s eta 0:00:16\n",
            "   ------------- -------------------------- 34.8/99.8 MB 4.2 MB/s eta 0:00:16\n",
            "   -------------- ------------------------- 35.0/99.8 MB 4.2 MB/s eta 0:00:16\n",
            "   -------------- ------------------------- 35.1/99.8 MB 4.2 MB/s eta 0:00:16\n",
            "   -------------- ------------------------- 35.2/99.8 MB 4.1 MB/s eta 0:00:16\n",
            "   -------------- ------------------------- 35.4/99.8 MB 4.1 MB/s eta 0:00:16\n",
            "   -------------- ------------------------- 35.5/99.8 MB 4.1 MB/s eta 0:00:16\n",
            "   -------------- ------------------------- 35.6/99.8 MB 4.1 MB/s eta 0:00:16\n",
            "   -------------- ------------------------- 35.7/99.8 MB 4.0 MB/s eta 0:00:16\n",
            "   -------------- ------------------------- 35.8/99.8 MB 4.0 MB/s eta 0:00:16\n",
            "   -------------- ------------------------- 36.1/99.8 MB 4.0 MB/s eta 0:00:17\n",
            "   -------------- ------------------------- 36.3/99.8 MB 4.0 MB/s eta 0:00:16\n",
            "   -------------- ------------------------- 36.3/99.8 MB 4.0 MB/s eta 0:00:16\n",
            "   -------------- ------------------------- 36.3/99.8 MB 4.0 MB/s eta 0:00:16\n",
            "   -------------- ------------------------- 36.3/99.8 MB 4.0 MB/s eta 0:00:16\n",
            "   -------------- ------------------------- 36.3/99.8 MB 4.0 MB/s eta 0:00:16\n",
            "   -------------- ------------------------- 36.3/99.8 MB 4.0 MB/s eta 0:00:16\n",
            "   -------------- ------------------------- 36.8/99.8 MB 3.7 MB/s eta 0:00:18\n",
            "   -------------- ------------------------- 37.2/99.8 MB 3.8 MB/s eta 0:00:17\n",
            "   --------------- ------------------------ 37.4/99.8 MB 3.8 MB/s eta 0:00:17\n",
            "   --------------- ------------------------ 37.5/99.8 MB 3.7 MB/s eta 0:00:17\n",
            "   --------------- ------------------------ 37.6/99.8 MB 3.7 MB/s eta 0:00:17\n",
            "   --------------- ------------------------ 37.8/99.8 MB 3.7 MB/s eta 0:00:17\n",
            "   --------------- ------------------------ 38.1/99.8 MB 3.7 MB/s eta 0:00:17\n",
            "   --------------- ------------------------ 38.3/99.8 MB 3.7 MB/s eta 0:00:17\n",
            "   --------------- ------------------------ 38.5/99.8 MB 3.7 MB/s eta 0:00:17\n",
            "   --------------- ------------------------ 38.8/99.8 MB 3.7 MB/s eta 0:00:17\n",
            "   --------------- ------------------------ 39.0/99.8 MB 3.8 MB/s eta 0:00:17\n",
            "   --------------- ------------------------ 39.2/99.8 MB 3.7 MB/s eta 0:00:17\n",
            "   --------------- ------------------------ 39.5/99.8 MB 3.8 MB/s eta 0:00:16\n",
            "   --------------- ------------------------ 39.7/99.8 MB 3.8 MB/s eta 0:00:16\n",
            "   ---------------- ----------------------- 39.9/99.8 MB 3.8 MB/s eta 0:00:16\n",
            "   ---------------- ----------------------- 40.1/99.8 MB 3.8 MB/s eta 0:00:16\n",
            "   ---------------- ----------------------- 40.4/99.8 MB 3.8 MB/s eta 0:00:16\n",
            "   ---------------- ----------------------- 40.6/99.8 MB 3.8 MB/s eta 0:00:16\n",
            "   ---------------- ----------------------- 40.8/99.8 MB 3.8 MB/s eta 0:00:16\n",
            "   ---------------- ----------------------- 41.0/99.8 MB 3.8 MB/s eta 0:00:16\n",
            "   ---------------- ----------------------- 41.2/99.8 MB 3.8 MB/s eta 0:00:16\n",
            "   ---------------- ----------------------- 41.4/99.8 MB 3.8 MB/s eta 0:00:16\n",
            "   ---------------- ----------------------- 41.5/99.8 MB 3.8 MB/s eta 0:00:16\n",
            "   ---------------- ----------------------- 41.7/99.8 MB 3.8 MB/s eta 0:00:16\n",
            "   ---------------- ----------------------- 41.9/99.8 MB 3.8 MB/s eta 0:00:16\n",
            "   ---------------- ----------------------- 42.0/99.8 MB 3.8 MB/s eta 0:00:16\n",
            "   ---------------- ----------------------- 42.2/99.8 MB 3.8 MB/s eta 0:00:16\n",
            "   ----------------- ---------------------- 42.4/99.8 MB 3.9 MB/s eta 0:00:15\n",
            "   ----------------- ---------------------- 42.6/99.8 MB 3.9 MB/s eta 0:00:15\n",
            "   ----------------- ---------------------- 42.8/99.8 MB 3.9 MB/s eta 0:00:15\n",
            "   ----------------- ---------------------- 43.0/99.8 MB 3.9 MB/s eta 0:00:15\n",
            "   ----------------- ---------------------- 43.3/99.8 MB 4.0 MB/s eta 0:00:15\n",
            "   ----------------- ---------------------- 43.5/99.8 MB 4.0 MB/s eta 0:00:15\n",
            "   ----------------- ---------------------- 43.8/99.8 MB 4.0 MB/s eta 0:00:15\n",
            "   ----------------- ---------------------- 44.1/99.8 MB 4.0 MB/s eta 0:00:14\n",
            "   ----------------- ---------------------- 44.3/99.8 MB 4.0 MB/s eta 0:00:14\n",
            "   ----------------- ---------------------- 44.7/99.8 MB 4.0 MB/s eta 0:00:14\n",
            "   ------------------ --------------------- 44.9/99.8 MB 4.0 MB/s eta 0:00:14\n",
            "   ------------------ --------------------- 45.1/99.8 MB 4.1 MB/s eta 0:00:14\n",
            "   ------------------ --------------------- 45.3/99.8 MB 4.0 MB/s eta 0:00:14\n",
            "   ------------------ --------------------- 45.6/99.8 MB 4.1 MB/s eta 0:00:14\n",
            "   ------------------ --------------------- 45.9/99.8 MB 4.3 MB/s eta 0:00:13\n",
            "   ------------------ --------------------- 46.2/99.8 MB 4.3 MB/s eta 0:00:13\n",
            "   ------------------ --------------------- 46.4/99.8 MB 4.4 MB/s eta 0:00:13\n",
            "   ------------------ --------------------- 46.6/99.8 MB 4.9 MB/s eta 0:00:11\n",
            "   ------------------ --------------------- 46.8/99.8 MB 4.8 MB/s eta 0:00:12\n",
            "   ------------------ --------------------- 47.1/99.8 MB 4.7 MB/s eta 0:00:12\n",
            "   ------------------- -------------------- 47.4/99.8 MB 4.6 MB/s eta 0:00:12\n",
            "   ------------------- -------------------- 47.6/99.8 MB 4.6 MB/s eta 0:00:12\n",
            "   ------------------- -------------------- 47.8/99.8 MB 4.8 MB/s eta 0:00:11\n",
            "   ------------------- -------------------- 48.0/99.8 MB 4.7 MB/s eta 0:00:11\n",
            "   ------------------- -------------------- 48.2/99.8 MB 4.8 MB/s eta 0:00:11\n",
            "   ------------------- -------------------- 48.5/99.8 MB 4.7 MB/s eta 0:00:11\n",
            "   ------------------- -------------------- 48.7/99.8 MB 4.7 MB/s eta 0:00:11\n",
            "   ------------------- -------------------- 49.0/99.8 MB 4.8 MB/s eta 0:00:11\n",
            "   ------------------- -------------------- 49.2/99.8 MB 4.8 MB/s eta 0:00:11\n",
            "   ------------------- -------------------- 49.5/99.8 MB 4.8 MB/s eta 0:00:11\n",
            "   ------------------- -------------------- 49.8/99.8 MB 4.8 MB/s eta 0:00:11\n",
            "   ------------------- -------------------- 49.8/99.8 MB 4.7 MB/s eta 0:00:11\n",
            "   -------------------- ------------------- 50.0/99.8 MB 4.7 MB/s eta 0:00:11\n",
            "   -------------------- ------------------- 50.3/99.8 MB 4.7 MB/s eta 0:00:11\n",
            "   -------------------- ------------------- 50.5/99.8 MB 4.7 MB/s eta 0:00:11\n",
            "   -------------------- ------------------- 50.7/99.8 MB 4.7 MB/s eta 0:00:11\n",
            "   -------------------- ------------------- 50.9/99.8 MB 4.7 MB/s eta 0:00:11\n",
            "   -------------------- ------------------- 51.1/99.8 MB 4.7 MB/s eta 0:00:11\n",
            "   -------------------- ------------------- 51.4/99.8 MB 4.7 MB/s eta 0:00:11\n",
            "   -------------------- ------------------- 51.6/99.8 MB 4.8 MB/s eta 0:00:11\n",
            "   -------------------- ------------------- 51.8/99.8 MB 4.8 MB/s eta 0:00:10\n",
            "   -------------------- ------------------- 52.0/99.8 MB 4.8 MB/s eta 0:00:10\n",
            "   -------------------- ------------------- 52.3/99.8 MB 4.9 MB/s eta 0:00:10\n",
            "   --------------------- ------------------ 52.6/99.8 MB 4.9 MB/s eta 0:00:10\n",
            "   --------------------- ------------------ 52.8/99.8 MB 4.9 MB/s eta 0:00:10\n",
            "   --------------------- ------------------ 53.0/99.8 MB 4.9 MB/s eta 0:00:10\n",
            "   --------------------- ------------------ 53.2/99.8 MB 4.9 MB/s eta 0:00:10\n",
            "   --------------------- ------------------ 53.5/99.8 MB 4.9 MB/s eta 0:00:10\n",
            "   --------------------- ------------------ 53.7/99.8 MB 4.9 MB/s eta 0:00:10\n",
            "   --------------------- ------------------ 53.9/99.8 MB 4.9 MB/s eta 0:00:10\n",
            "   --------------------- ------------------ 54.1/99.8 MB 4.9 MB/s eta 0:00:10\n",
            "   --------------------- ------------------ 54.3/99.8 MB 4.9 MB/s eta 0:00:10\n",
            "   --------------------- ------------------ 54.5/99.8 MB 4.8 MB/s eta 0:00:10\n",
            "   --------------------- ------------------ 54.7/99.8 MB 4.8 MB/s eta 0:00:10\n",
            "   ---------------------- ----------------- 55.0/99.8 MB 4.8 MB/s eta 0:00:10\n",
            "   ---------------------- ----------------- 55.2/99.8 MB 4.8 MB/s eta 0:00:10\n",
            "   ---------------------- ----------------- 55.4/99.8 MB 4.8 MB/s eta 0:00:10\n",
            "   ---------------------- ----------------- 55.5/99.8 MB 4.8 MB/s eta 0:00:10\n",
            "   ---------------------- ----------------- 55.7/99.8 MB 4.7 MB/s eta 0:00:10\n",
            "   ---------------------- ----------------- 55.9/99.8 MB 4.7 MB/s eta 0:00:10\n",
            "   ---------------------- ----------------- 56.1/99.8 MB 4.7 MB/s eta 0:00:10\n",
            "   ---------------------- ----------------- 56.3/99.8 MB 4.6 MB/s eta 0:00:10\n",
            "   ---------------------- ----------------- 56.4/99.8 MB 4.6 MB/s eta 0:00:10\n",
            "   ---------------------- ----------------- 56.6/99.8 MB 4.5 MB/s eta 0:00:10\n",
            "   ---------------------- ----------------- 56.9/99.8 MB 4.6 MB/s eta 0:00:10\n",
            "   ---------------------- ----------------- 57.1/99.8 MB 4.6 MB/s eta 0:00:10\n",
            "   ---------------------- ----------------- 57.3/99.8 MB 4.6 MB/s eta 0:00:10\n",
            "   ----------------------- ---------------- 57.5/99.8 MB 4.6 MB/s eta 0:00:10\n",
            "   ----------------------- ---------------- 57.8/99.8 MB 4.6 MB/s eta 0:00:10\n",
            "   ----------------------- ---------------- 58.1/99.8 MB 4.6 MB/s eta 0:00:10\n",
            "   ----------------------- ---------------- 58.3/99.8 MB 4.6 MB/s eta 0:00:09\n",
            "   ----------------------- ---------------- 58.6/99.8 MB 4.6 MB/s eta 0:00:09\n",
            "   ----------------------- ---------------- 58.8/99.8 MB 4.6 MB/s eta 0:00:09\n",
            "   ----------------------- ---------------- 59.0/99.8 MB 4.6 MB/s eta 0:00:09\n",
            "   ----------------------- ---------------- 59.3/99.8 MB 4.6 MB/s eta 0:00:09\n",
            "   ----------------------- ---------------- 59.5/99.8 MB 4.6 MB/s eta 0:00:09\n",
            "   ----------------------- ---------------- 59.7/99.8 MB 4.5 MB/s eta 0:00:09\n",
            "   ------------------------ --------------- 59.9/99.8 MB 4.5 MB/s eta 0:00:09\n",
            "   ------------------------ --------------- 60.2/99.8 MB 4.7 MB/s eta 0:00:09\n",
            "   ------------------------ --------------- 60.5/99.8 MB 4.7 MB/s eta 0:00:09\n",
            "   ------------------------ --------------- 60.7/99.8 MB 4.7 MB/s eta 0:00:09\n",
            "   ------------------------ --------------- 61.1/99.8 MB 4.7 MB/s eta 0:00:09\n",
            "   ------------------------ --------------- 61.3/99.8 MB 4.7 MB/s eta 0:00:09\n",
            "   ------------------------ --------------- 61.5/99.8 MB 4.6 MB/s eta 0:00:09\n",
            "   ------------------------ --------------- 61.6/99.8 MB 4.6 MB/s eta 0:00:09\n",
            "   ------------------------ --------------- 61.7/99.8 MB 4.6 MB/s eta 0:00:09\n",
            "   ------------------------ --------------- 61.9/99.8 MB 4.5 MB/s eta 0:00:09\n",
            "   ------------------------ --------------- 62.1/99.8 MB 4.5 MB/s eta 0:00:09\n",
            "   ------------------------ --------------- 62.2/99.8 MB 4.5 MB/s eta 0:00:09\n",
            "   ------------------------- -------------- 62.4/99.8 MB 4.5 MB/s eta 0:00:09\n",
            "   ------------------------- -------------- 62.6/99.8 MB 4.5 MB/s eta 0:00:09\n",
            "   ------------------------- -------------- 62.9/99.8 MB 4.5 MB/s eta 0:00:09\n",
            "   ------------------------- -------------- 63.0/99.8 MB 4.4 MB/s eta 0:00:09\n",
            "   ------------------------- -------------- 63.2/99.8 MB 4.4 MB/s eta 0:00:09\n",
            "   ------------------------- -------------- 63.4/99.8 MB 4.4 MB/s eta 0:00:09\n",
            "   ------------------------- -------------- 63.5/99.8 MB 4.3 MB/s eta 0:00:09\n",
            "   ------------------------- -------------- 63.8/99.8 MB 4.3 MB/s eta 0:00:09\n",
            "   ------------------------- -------------- 63.9/99.8 MB 4.3 MB/s eta 0:00:09\n",
            "   ------------------------- -------------- 64.1/99.8 MB 4.3 MB/s eta 0:00:09\n",
            "   ------------------------- -------------- 64.3/99.8 MB 4.3 MB/s eta 0:00:09\n",
            "   ------------------------- -------------- 64.5/99.8 MB 4.3 MB/s eta 0:00:09\n",
            "   ------------------------- -------------- 64.7/99.8 MB 4.3 MB/s eta 0:00:09\n",
            "   -------------------------- ------------- 65.0/99.8 MB 4.3 MB/s eta 0:00:09\n",
            "   -------------------------- ------------- 65.2/99.8 MB 4.3 MB/s eta 0:00:08\n",
            "   -------------------------- ------------- 65.5/99.8 MB 4.3 MB/s eta 0:00:08\n",
            "   -------------------------- ------------- 65.7/99.8 MB 4.4 MB/s eta 0:00:08\n",
            "   -------------------------- ------------- 66.0/99.8 MB 4.4 MB/s eta 0:00:08\n",
            "   -------------------------- ------------- 66.2/99.8 MB 4.4 MB/s eta 0:00:08\n",
            "   -------------------------- ------------- 66.4/99.8 MB 4.5 MB/s eta 0:00:08\n",
            "   -------------------------- ------------- 66.7/99.8 MB 4.5 MB/s eta 0:00:08\n",
            "   -------------------------- ------------- 66.9/99.8 MB 4.5 MB/s eta 0:00:08\n",
            "   -------------------------- ------------- 67.2/99.8 MB 4.6 MB/s eta 0:00:08\n",
            "   --------------------------- ------------ 67.4/99.8 MB 4.6 MB/s eta 0:00:08\n",
            "   --------------------------- ------------ 67.6/99.8 MB 4.6 MB/s eta 0:00:08\n",
            "   --------------------------- ------------ 67.8/99.8 MB 4.5 MB/s eta 0:00:08\n",
            "   --------------------------- ------------ 68.1/99.8 MB 4.5 MB/s eta 0:00:07\n",
            "   --------------------------- ------------ 68.3/99.8 MB 4.5 MB/s eta 0:00:07\n",
            "   --------------------------- ------------ 68.6/99.8 MB 4.6 MB/s eta 0:00:07\n",
            "   --------------------------- ------------ 68.8/99.8 MB 4.6 MB/s eta 0:00:07\n",
            "   --------------------------- ------------ 69.1/99.8 MB 4.6 MB/s eta 0:00:07\n",
            "   --------------------------- ------------ 69.3/99.8 MB 4.5 MB/s eta 0:00:07\n",
            "   --------------------------- ------------ 69.5/99.8 MB 4.5 MB/s eta 0:00:07\n",
            "   --------------------------- ------------ 69.7/99.8 MB 4.6 MB/s eta 0:00:07\n",
            "   ---------------------------- ----------- 70.0/99.8 MB 4.6 MB/s eta 0:00:07\n",
            "   ---------------------------- ----------- 70.2/99.8 MB 4.6 MB/s eta 0:00:07\n",
            "   ---------------------------- ----------- 70.4/99.8 MB 4.5 MB/s eta 0:00:07\n",
            "   ---------------------------- ----------- 70.6/99.8 MB 4.5 MB/s eta 0:00:07\n",
            "   ---------------------------- ----------- 70.9/99.8 MB 4.5 MB/s eta 0:00:07\n",
            "   ---------------------------- ----------- 71.1/99.8 MB 4.5 MB/s eta 0:00:07\n",
            "   ---------------------------- ----------- 71.3/99.8 MB 4.5 MB/s eta 0:00:07\n",
            "   ---------------------------- ----------- 71.5/99.8 MB 4.5 MB/s eta 0:00:07\n",
            "   ---------------------------- ----------- 71.7/99.8 MB 4.5 MB/s eta 0:00:07\n",
            "   ---------------------------- ----------- 71.8/99.8 MB 4.5 MB/s eta 0:00:07\n",
            "   ---------------------------- ----------- 72.1/99.8 MB 4.6 MB/s eta 0:00:06\n",
            "   ----------------------------- ---------- 72.4/99.8 MB 4.7 MB/s eta 0:00:06\n",
            "   ----------------------------- ---------- 72.6/99.8 MB 4.7 MB/s eta 0:00:06\n",
            "   ----------------------------- ---------- 72.9/99.8 MB 4.8 MB/s eta 0:00:06\n",
            "   ----------------------------- ---------- 73.1/99.8 MB 4.8 MB/s eta 0:00:06\n",
            "   ----------------------------- ---------- 73.3/99.8 MB 4.8 MB/s eta 0:00:06\n",
            "   ----------------------------- ---------- 73.5/99.8 MB 4.8 MB/s eta 0:00:06\n",
            "   ----------------------------- ---------- 73.7/99.8 MB 4.8 MB/s eta 0:00:06\n",
            "   ----------------------------- ---------- 73.9/99.8 MB 4.8 MB/s eta 0:00:06\n",
            "   ----------------------------- ---------- 74.2/99.8 MB 4.9 MB/s eta 0:00:06\n",
            "   ----------------------------- ---------- 74.4/99.8 MB 4.9 MB/s eta 0:00:06\n",
            "   ----------------------------- ---------- 74.7/99.8 MB 5.0 MB/s eta 0:00:06\n",
            "   ------------------------------ --------- 74.9/99.8 MB 5.0 MB/s eta 0:00:06\n",
            "   ------------------------------ --------- 75.2/99.8 MB 5.0 MB/s eta 0:00:05\n",
            "   ------------------------------ --------- 75.4/99.8 MB 5.0 MB/s eta 0:00:05\n",
            "   ------------------------------ --------- 75.7/99.8 MB 5.0 MB/s eta 0:00:05\n",
            "   ------------------------------ --------- 75.9/99.8 MB 5.0 MB/s eta 0:00:05\n",
            "   ------------------------------ --------- 76.2/99.8 MB 5.0 MB/s eta 0:00:05\n",
            "   ------------------------------ --------- 76.4/99.8 MB 5.0 MB/s eta 0:00:05\n",
            "   ------------------------------ --------- 76.6/99.8 MB 5.0 MB/s eta 0:00:05\n",
            "   ------------------------------ --------- 76.7/99.8 MB 5.0 MB/s eta 0:00:05\n",
            "   ------------------------------ --------- 76.9/99.8 MB 4.9 MB/s eta 0:00:05\n",
            "   ------------------------------ --------- 77.1/99.8 MB 4.9 MB/s eta 0:00:05\n",
            "   ------------------------------- -------- 77.4/99.8 MB 4.8 MB/s eta 0:00:05\n",
            "   ------------------------------- -------- 77.7/99.8 MB 4.9 MB/s eta 0:00:05\n",
            "   ------------------------------- -------- 77.9/99.8 MB 4.9 MB/s eta 0:00:05\n",
            "   ------------------------------- -------- 78.2/99.8 MB 4.9 MB/s eta 0:00:05\n",
            "   ------------------------------- -------- 78.4/99.8 MB 4.9 MB/s eta 0:00:05\n",
            "   ------------------------------- -------- 78.7/99.8 MB 5.0 MB/s eta 0:00:05\n",
            "   ------------------------------- -------- 78.9/99.8 MB 5.0 MB/s eta 0:00:05\n",
            "   ------------------------------- -------- 79.1/99.8 MB 4.9 MB/s eta 0:00:05\n",
            "   ------------------------------- -------- 79.2/99.8 MB 4.9 MB/s eta 0:00:05\n",
            "   ------------------------------- -------- 79.6/99.8 MB 4.9 MB/s eta 0:00:05\n",
            "   -------------------------------- ------- 79.8/99.8 MB 4.8 MB/s eta 0:00:05\n",
            "   -------------------------------- ------- 80.1/99.8 MB 4.8 MB/s eta 0:00:05\n",
            "   -------------------------------- ------- 80.3/99.8 MB 4.8 MB/s eta 0:00:05\n",
            "   -------------------------------- ------- 80.7/99.8 MB 4.8 MB/s eta 0:00:04\n",
            "   -------------------------------- ------- 80.8/99.8 MB 4.8 MB/s eta 0:00:04\n",
            "   -------------------------------- ------- 81.2/99.8 MB 4.9 MB/s eta 0:00:04\n",
            "   -------------------------------- ------- 81.4/99.8 MB 4.8 MB/s eta 0:00:04\n",
            "   -------------------------------- ------- 81.6/99.8 MB 4.9 MB/s eta 0:00:04\n",
            "   -------------------------------- ------- 81.9/99.8 MB 4.9 MB/s eta 0:00:04\n",
            "   -------------------------------- ------- 82.0/99.8 MB 4.9 MB/s eta 0:00:04\n",
            "   -------------------------------- ------- 82.2/99.8 MB 4.9 MB/s eta 0:00:04\n",
            "   --------------------------------- ------ 82.5/99.8 MB 4.9 MB/s eta 0:00:04\n",
            "   --------------------------------- ------ 82.6/99.8 MB 4.9 MB/s eta 0:00:04\n",
            "   --------------------------------- ------ 82.8/99.8 MB 4.8 MB/s eta 0:00:04\n",
            "   --------------------------------- ------ 83.0/99.8 MB 4.8 MB/s eta 0:00:04\n",
            "   --------------------------------- ------ 83.2/99.8 MB 4.7 MB/s eta 0:00:04\n",
            "   --------------------------------- ------ 83.3/99.8 MB 4.7 MB/s eta 0:00:04\n",
            "   --------------------------------- ------ 83.6/99.8 MB 4.8 MB/s eta 0:00:04\n",
            "   --------------------------------- ------ 83.8/99.8 MB 4.8 MB/s eta 0:00:04\n",
            "   --------------------------------- ------ 84.0/99.8 MB 4.7 MB/s eta 0:00:04\n",
            "   --------------------------------- ------ 84.2/99.8 MB 4.7 MB/s eta 0:00:04\n",
            "   --------------------------------- ------ 84.4/99.8 MB 4.7 MB/s eta 0:00:04\n",
            "   --------------------------------- ------ 84.6/99.8 MB 4.7 MB/s eta 0:00:04\n",
            "   ---------------------------------- ----- 84.8/99.8 MB 4.7 MB/s eta 0:00:04\n",
            "   ---------------------------------- ----- 85.1/99.8 MB 4.7 MB/s eta 0:00:04\n",
            "   ---------------------------------- ----- 85.3/99.8 MB 4.7 MB/s eta 0:00:04\n",
            "   ---------------------------------- ----- 85.4/99.8 MB 4.6 MB/s eta 0:00:04\n",
            "   ---------------------------------- ----- 85.6/99.8 MB 4.6 MB/s eta 0:00:04\n",
            "   ---------------------------------- ----- 85.7/99.8 MB 4.5 MB/s eta 0:00:04\n",
            "   ---------------------------------- ----- 85.9/99.8 MB 4.5 MB/s eta 0:00:04\n",
            "   ---------------------------------- ----- 86.0/99.8 MB 4.5 MB/s eta 0:00:04\n",
            "   ---------------------------------- ----- 86.2/99.8 MB 4.5 MB/s eta 0:00:04\n",
            "   ---------------------------------- ----- 86.4/99.8 MB 4.4 MB/s eta 0:00:04\n",
            "   ---------------------------------- ----- 86.6/99.8 MB 4.4 MB/s eta 0:00:03\n",
            "   ---------------------------------- ----- 86.8/99.8 MB 4.4 MB/s eta 0:00:03\n",
            "   ---------------------------------- ----- 86.9/99.8 MB 4.5 MB/s eta 0:00:03\n",
            "   ---------------------------------- ----- 87.2/99.8 MB 4.5 MB/s eta 0:00:03\n",
            "   ----------------------------------- ---- 87.4/99.8 MB 4.5 MB/s eta 0:00:03\n",
            "   ----------------------------------- ---- 87.7/99.8 MB 4.5 MB/s eta 0:00:03\n",
            "   ----------------------------------- ---- 87.9/99.8 MB 4.4 MB/s eta 0:00:03\n",
            "   ----------------------------------- ---- 88.1/99.8 MB 4.4 MB/s eta 0:00:03\n",
            "   ----------------------------------- ---- 88.3/99.8 MB 4.4 MB/s eta 0:00:03\n",
            "   ----------------------------------- ---- 88.4/99.8 MB 4.4 MB/s eta 0:00:03\n",
            "   ----------------------------------- ---- 88.6/99.8 MB 4.3 MB/s eta 0:00:03\n",
            "   ----------------------------------- ---- 88.8/99.8 MB 4.3 MB/s eta 0:00:03\n",
            "   ----------------------------------- ---- 89.0/99.8 MB 4.3 MB/s eta 0:00:03\n",
            "   ----------------------------------- ---- 89.1/99.8 MB 4.2 MB/s eta 0:00:03\n",
            "   ----------------------------------- ---- 89.3/99.8 MB 4.3 MB/s eta 0:00:03\n",
            "   ----------------------------------- ---- 89.5/99.8 MB 4.3 MB/s eta 0:00:03\n",
            "   ------------------------------------ --- 89.8/99.8 MB 4.3 MB/s eta 0:00:03\n",
            "   ------------------------------------ --- 90.0/99.8 MB 4.3 MB/s eta 0:00:03\n",
            "   ------------------------------------ --- 90.3/99.8 MB 4.3 MB/s eta 0:00:03\n",
            "   ------------------------------------ --- 90.4/99.8 MB 4.3 MB/s eta 0:00:03\n",
            "   ------------------------------------ --- 90.6/99.8 MB 4.3 MB/s eta 0:00:03\n",
            "   ------------------------------------ --- 90.7/99.8 MB 4.2 MB/s eta 0:00:03\n",
            "   ------------------------------------ --- 90.8/99.8 MB 4.2 MB/s eta 0:00:03\n",
            "   ------------------------------------ --- 91.1/99.8 MB 4.3 MB/s eta 0:00:03\n",
            "   ------------------------------------ --- 91.4/99.8 MB 4.2 MB/s eta 0:00:02\n",
            "   ------------------------------------ --- 91.7/99.8 MB 4.2 MB/s eta 0:00:02\n",
            "   ------------------------------------ --- 91.8/99.8 MB 4.2 MB/s eta 0:00:02\n",
            "   ------------------------------------ --- 91.9/99.8 MB 4.1 MB/s eta 0:00:02\n",
            "   ------------------------------------ --- 92.0/99.8 MB 4.1 MB/s eta 0:00:02\n",
            "   ------------------------------------- -- 92.3/99.8 MB 4.1 MB/s eta 0:00:02\n",
            "   ------------------------------------- -- 92.5/99.8 MB 4.0 MB/s eta 0:00:02\n",
            "   ------------------------------------- -- 92.7/99.8 MB 4.0 MB/s eta 0:00:02\n",
            "   ------------------------------------- -- 92.9/99.8 MB 4.0 MB/s eta 0:00:02\n",
            "   ------------------------------------- -- 93.1/99.8 MB 4.0 MB/s eta 0:00:02\n",
            "   ------------------------------------- -- 93.2/99.8 MB 4.0 MB/s eta 0:00:02\n",
            "   ------------------------------------- -- 93.3/99.8 MB 3.9 MB/s eta 0:00:02\n",
            "   ------------------------------------- -- 93.4/99.8 MB 3.9 MB/s eta 0:00:02\n",
            "   ------------------------------------- -- 93.5/99.8 MB 3.9 MB/s eta 0:00:02\n",
            "   ------------------------------------- -- 93.7/99.8 MB 3.9 MB/s eta 0:00:02\n",
            "   ------------------------------------- -- 93.9/99.8 MB 3.9 MB/s eta 0:00:02\n",
            "   ------------------------------------- -- 94.0/99.8 MB 3.9 MB/s eta 0:00:02\n",
            "   ------------------------------------- -- 94.0/99.8 MB 3.9 MB/s eta 0:00:02\n",
            "   ------------------------------------- -- 94.0/99.8 MB 3.9 MB/s eta 0:00:02\n",
            "   ------------------------------------- -- 94.0/99.8 MB 3.9 MB/s eta 0:00:02\n",
            "   ------------------------------------- -- 94.2/99.8 MB 3.6 MB/s eta 0:00:02\n",
            "   -------------------------------------- - 95.0/99.8 MB 3.8 MB/s eta 0:00:02\n",
            "   -------------------------------------- - 95.2/99.8 MB 3.8 MB/s eta 0:00:02\n",
            "   -------------------------------------- - 95.4/99.8 MB 3.8 MB/s eta 0:00:02\n",
            "   -------------------------------------- - 95.6/99.8 MB 3.9 MB/s eta 0:00:02\n",
            "   -------------------------------------- - 95.9/99.8 MB 3.9 MB/s eta 0:00:01\n",
            "   -------------------------------------- - 96.1/99.8 MB 3.9 MB/s eta 0:00:01\n",
            "   -------------------------------------- - 96.3/99.8 MB 3.9 MB/s eta 0:00:01\n",
            "   -------------------------------------- - 96.5/99.8 MB 4.0 MB/s eta 0:00:01\n",
            "   -------------------------------------- - 96.7/99.8 MB 4.0 MB/s eta 0:00:01\n",
            "   -------------------------------------- - 96.9/99.8 MB 3.9 MB/s eta 0:00:01\n",
            "   -------------------------------------- - 97.2/99.8 MB 4.0 MB/s eta 0:00:01\n",
            "   ---------------------------------------  97.4/99.8 MB 4.0 MB/s eta 0:00:01\n",
            "   ---------------------------------------  97.5/99.8 MB 3.9 MB/s eta 0:00:01\n",
            "   ---------------------------------------  97.7/99.8 MB 3.9 MB/s eta 0:00:01\n",
            "   ---------------------------------------  97.8/99.8 MB 3.9 MB/s eta 0:00:01\n",
            "   ---------------------------------------  97.9/99.8 MB 3.9 MB/s eta 0:00:01\n",
            "   ---------------------------------------  98.1/99.8 MB 3.9 MB/s eta 0:00:01\n",
            "   ---------------------------------------  98.4/99.8 MB 3.9 MB/s eta 0:00:01\n",
            "   ---------------------------------------  98.6/99.8 MB 3.9 MB/s eta 0:00:01\n",
            "   ---------------------------------------  98.8/99.8 MB 3.9 MB/s eta 0:00:01\n",
            "   ---------------------------------------  99.0/99.8 MB 3.9 MB/s eta 0:00:01\n",
            "   ---------------------------------------  99.1/99.8 MB 3.9 MB/s eta 0:00:01\n",
            "   ---------------------------------------  99.4/99.8 MB 3.9 MB/s eta 0:00:01\n",
            "   ---------------------------------------  99.6/99.8 MB 3.9 MB/s eta 0:00:01\n",
            "   ---------------------------------------  99.7/99.8 MB 3.9 MB/s eta 0:00:01\n",
            "   ---------------------------------------  99.7/99.8 MB 3.9 MB/s eta 0:00:01\n",
            "   ---------------------------------------  99.7/99.8 MB 3.9 MB/s eta 0:00:01\n",
            "   ---------------------------------------  99.7/99.8 MB 3.9 MB/s eta 0:00:01\n",
            "   ---------------------------------------  99.7/99.8 MB 3.9 MB/s eta 0:00:01\n",
            "   ---------------------------------------  99.7/99.8 MB 3.9 MB/s eta 0:00:01\n",
            "   ---------------------------------------  99.7/99.8 MB 3.9 MB/s eta 0:00:01\n",
            "   ---------------------------------------  99.7/99.8 MB 3.9 MB/s eta 0:00:01\n",
            "   ---------------------------------------  99.7/99.8 MB 3.9 MB/s eta 0:00:01\n",
            "   ---------------------------------------- 99.8/99.8 MB 3.4 MB/s eta 0:00:00\n",
            "Installing collected packages: xgboost\n",
            "Successfully installed xgboost-2.0.2\n",
            "Note: you may need to restart the kernel to use updated packages.\n"
          ]
        }
      ],
      "source": [
        "pip install xgboost"
      ]
    },
    {
      "cell_type": "code",
      "execution_count": null,
      "metadata": {
        "id": "LKkc6JJP6B_B"
      },
      "outputs": [],
      "source": [
        "from sklearn.metrics import mean_absolute_error, mean_squared_error, r2_score\n",
        "from xgboost import XGBRegressor"
      ]
    },
    {
      "cell_type": "code",
      "execution_count": null,
      "metadata": {
        "id": "jjzA3AoP4am_"
      },
      "outputs": [],
      "source": [
        "mae_tree = mean_absolute_error(y_test, y_pred)\n",
        "mse_tree = mean_squared_error(y_test, y_pred)\n",
        "r2_tree = r2_score(y_test, y_pred)"
      ]
    },
    {
      "cell_type": "markdown",
      "metadata": {
        "id": "5R3RhfE86E8Y"
      },
      "source": [
        "## Initialize the XGBRegressor model, and use the fit function"
      ]
    },
    {
      "cell_type": "markdown",
      "metadata": {
        "id": "D1-1GuOW6Pd5"
      },
      "source": [
        "Add values for the parameters: n_estimators, max_depth, learning_rate, and set the objective to \"reg:squarederror\""
      ]
    },
    {
      "cell_type": "markdown",
      "metadata": {
        "id": "yCnhvQSO6kzL"
      },
      "source": [
        "Fit the model using the fit function"
      ]
    },
    {
      "cell_type": "code",
      "execution_count": null,
      "metadata": {
        "id": "GgmmDDSs6PKH",
        "outputId": "e6673537-e7f0-4b5b-a1f0-cbf50dae941c"
      },
      "outputs": [
        {
          "data": {
            "text/html": [
              "<style>#sk-container-id-3 {color: black;}#sk-container-id-3 pre{padding: 0;}#sk-container-id-3 div.sk-toggleable {background-color: white;}#sk-container-id-3 label.sk-toggleable__label {cursor: pointer;display: block;width: 100%;margin-bottom: 0;padding: 0.3em;box-sizing: border-box;text-align: center;}#sk-container-id-3 label.sk-toggleable__label-arrow:before {content: \"▸\";float: left;margin-right: 0.25em;color: #696969;}#sk-container-id-3 label.sk-toggleable__label-arrow:hover:before {color: black;}#sk-container-id-3 div.sk-estimator:hover label.sk-toggleable__label-arrow:before {color: black;}#sk-container-id-3 div.sk-toggleable__content {max-height: 0;max-width: 0;overflow: hidden;text-align: left;background-color: #f0f8ff;}#sk-container-id-3 div.sk-toggleable__content pre {margin: 0.2em;color: black;border-radius: 0.25em;background-color: #f0f8ff;}#sk-container-id-3 input.sk-toggleable__control:checked~div.sk-toggleable__content {max-height: 200px;max-width: 100%;overflow: auto;}#sk-container-id-3 input.sk-toggleable__control:checked~label.sk-toggleable__label-arrow:before {content: \"▾\";}#sk-container-id-3 div.sk-estimator input.sk-toggleable__control:checked~label.sk-toggleable__label {background-color: #d4ebff;}#sk-container-id-3 div.sk-label input.sk-toggleable__control:checked~label.sk-toggleable__label {background-color: #d4ebff;}#sk-container-id-3 input.sk-hidden--visually {border: 0;clip: rect(1px 1px 1px 1px);clip: rect(1px, 1px, 1px, 1px);height: 1px;margin: -1px;overflow: hidden;padding: 0;position: absolute;width: 1px;}#sk-container-id-3 div.sk-estimator {font-family: monospace;background-color: #f0f8ff;border: 1px dotted black;border-radius: 0.25em;box-sizing: border-box;margin-bottom: 0.5em;}#sk-container-id-3 div.sk-estimator:hover {background-color: #d4ebff;}#sk-container-id-3 div.sk-parallel-item::after {content: \"\";width: 100%;border-bottom: 1px solid gray;flex-grow: 1;}#sk-container-id-3 div.sk-label:hover label.sk-toggleable__label {background-color: #d4ebff;}#sk-container-id-3 div.sk-serial::before {content: \"\";position: absolute;border-left: 1px solid gray;box-sizing: border-box;top: 0;bottom: 0;left: 50%;z-index: 0;}#sk-container-id-3 div.sk-serial {display: flex;flex-direction: column;align-items: center;background-color: white;padding-right: 0.2em;padding-left: 0.2em;position: relative;}#sk-container-id-3 div.sk-item {position: relative;z-index: 1;}#sk-container-id-3 div.sk-parallel {display: flex;align-items: stretch;justify-content: center;background-color: white;position: relative;}#sk-container-id-3 div.sk-item::before, #sk-container-id-3 div.sk-parallel-item::before {content: \"\";position: absolute;border-left: 1px solid gray;box-sizing: border-box;top: 0;bottom: 0;left: 50%;z-index: -1;}#sk-container-id-3 div.sk-parallel-item {display: flex;flex-direction: column;z-index: 1;position: relative;background-color: white;}#sk-container-id-3 div.sk-parallel-item:first-child::after {align-self: flex-end;width: 50%;}#sk-container-id-3 div.sk-parallel-item:last-child::after {align-self: flex-start;width: 50%;}#sk-container-id-3 div.sk-parallel-item:only-child::after {width: 0;}#sk-container-id-3 div.sk-dashed-wrapped {border: 1px dashed gray;margin: 0 0.4em 0.5em 0.4em;box-sizing: border-box;padding-bottom: 0.4em;background-color: white;}#sk-container-id-3 div.sk-label label {font-family: monospace;font-weight: bold;display: inline-block;line-height: 1.2em;}#sk-container-id-3 div.sk-label-container {text-align: center;}#sk-container-id-3 div.sk-container {/* jupyter's `normalize.less` sets `[hidden] { display: none; }` but bootstrap.min.css set `[hidden] { display: none !important; }` so we also need the `!important` here to be able to override the default hidden behavior on the sphinx rendered scikit-learn.org. See: https://github.com/scikit-learn/scikit-learn/issues/21755 */display: inline-block !important;position: relative;}#sk-container-id-3 div.sk-text-repr-fallback {display: none;}</style><div id=\"sk-container-id-3\" class=\"sk-top-container\"><div class=\"sk-text-repr-fallback\"><pre>XGBRegressor(base_score=None, booster=None, callbacks=None,\n",
              "             colsample_bylevel=None, colsample_bynode=None,\n",
              "             colsample_bytree=None, device=None, early_stopping_rounds=None,\n",
              "             enable_categorical=False, eval_metric=None, feature_types=None,\n",
              "             gamma=None, grow_policy=None, importance_type=None,\n",
              "             interaction_constraints=None, learning_rate=0.1, max_bin=None,\n",
              "             max_cat_threshold=None, max_cat_to_onehot=None,\n",
              "             max_delta_step=None, max_depth=3, max_leaves=None,\n",
              "             min_child_weight=None, missing=nan, monotone_constraints=None,\n",
              "             multi_strategy=None, n_estimators=100, n_jobs=None,\n",
              "             num_parallel_tree=None, random_state=None, ...)</pre><b>In a Jupyter environment, please rerun this cell to show the HTML representation or trust the notebook. <br />On GitHub, the HTML representation is unable to render, please try loading this page with nbviewer.org.</b></div><div class=\"sk-container\" hidden><div class=\"sk-item\"><div class=\"sk-estimator sk-toggleable\"><input class=\"sk-toggleable__control sk-hidden--visually\" id=\"sk-estimator-id-3\" type=\"checkbox\" checked><label for=\"sk-estimator-id-3\" class=\"sk-toggleable__label sk-toggleable__label-arrow\">XGBRegressor</label><div class=\"sk-toggleable__content\"><pre>XGBRegressor(base_score=None, booster=None, callbacks=None,\n",
              "             colsample_bylevel=None, colsample_bynode=None,\n",
              "             colsample_bytree=None, device=None, early_stopping_rounds=None,\n",
              "             enable_categorical=False, eval_metric=None, feature_types=None,\n",
              "             gamma=None, grow_policy=None, importance_type=None,\n",
              "             interaction_constraints=None, learning_rate=0.1, max_bin=None,\n",
              "             max_cat_threshold=None, max_cat_to_onehot=None,\n",
              "             max_delta_step=None, max_depth=3, max_leaves=None,\n",
              "             min_child_weight=None, missing=nan, monotone_constraints=None,\n",
              "             multi_strategy=None, n_estimators=100, n_jobs=None,\n",
              "             num_parallel_tree=None, random_state=None, ...)</pre></div></div></div></div></div>"
            ],
            "text/plain": [
              "XGBRegressor(base_score=None, booster=None, callbacks=None,\n",
              "             colsample_bylevel=None, colsample_bynode=None,\n",
              "             colsample_bytree=None, device=None, early_stopping_rounds=None,\n",
              "             enable_categorical=False, eval_metric=None, feature_types=None,\n",
              "             gamma=None, grow_policy=None, importance_type=None,\n",
              "             interaction_constraints=None, learning_rate=0.1, max_bin=None,\n",
              "             max_cat_threshold=None, max_cat_to_onehot=None,\n",
              "             max_delta_step=None, max_depth=3, max_leaves=None,\n",
              "             min_child_weight=None, missing=nan, monotone_constraints=None,\n",
              "             multi_strategy=None, n_estimators=100, n_jobs=None,\n",
              "             num_parallel_tree=None, random_state=None, ...)"
            ]
          },
          "execution_count": 56,
          "metadata": {},
          "output_type": "execute_result"
        }
      ],
      "source": [
        "xgb_regressor = XGBRegressor(\n",
        "    n_estimators=100,\n",
        "    max_depth=3,\n",
        "    learning_rate=0.1,\n",
        "    objective='reg:squarederror'\n",
        ")\n",
        "xgb_regressor.fit(X_train, y_train)"
      ]
    },
    {
      "cell_type": "markdown",
      "metadata": {
        "id": "FltYcNCS6noz"
      },
      "source": [
        "## Predict the outcomes for X test"
      ]
    },
    {
      "cell_type": "code",
      "execution_count": null,
      "metadata": {
        "id": "VTqn6Xms6n6C"
      },
      "outputs": [],
      "source": [
        "y_pred2 = xgb_regressor.predict(X_test)"
      ]
    },
    {
      "cell_type": "markdown",
      "metadata": {
        "id": "OQ38frvF6oeb"
      },
      "source": [
        "## Assess the model performance, by using sklearn metrics for regression"
      ]
    },
    {
      "cell_type": "code",
      "execution_count": null,
      "metadata": {
        "id": "7E76dwNa6qfS"
      },
      "outputs": [],
      "source": [
        "mae_xgb = mean_absolute_error(y_test, y_pred2)\n",
        "mse_xgb = mean_squared_error(y_test, y_pred2)\n",
        "r2_xgb = r2_score(y_test, y_pred2)"
      ]
    },
    {
      "cell_type": "markdown",
      "metadata": {
        "id": "0axT9BpB6q5p"
      },
      "source": [
        "## Compare the performances of both model for at least three regression metircs"
      ]
    },
    {
      "cell_type": "code",
      "execution_count": null,
      "metadata": {
        "id": "pXwNpoBn6xM-",
        "outputId": "0b80d47f-0c30-405c-a8a2-fb1ce910cc1e"
      },
      "outputs": [
        {
          "name": "stdout",
          "output_type": "stream",
          "text": [
            "DecisionTreeRegressor Metrics:\n",
            "MAE: 17166.666666666668\n",
            "MSE: 1444360599.3333333\n",
            "R-squared (R2): -0.8213014289817406\n",
            "\n",
            "XGBRegressor Metrics:\n",
            "MAE: 7923.299665178572\n",
            "MSE: 236221550.55164084\n",
            "R-squared (R2): 0.7021307229132632\n"
          ]
        }
      ],
      "source": [
        "print(\"DecisionTreeRegressor Metrics:\")\n",
        "print(f\"MAE: {mae_tree}\")\n",
        "print(f\"MSE: {mse_tree}\")\n",
        "print(f\"R-squared (R2): {r2_tree}\")\n",
        "print(\"\\nXGBRegressor Metrics:\")\n",
        "print(f\"MAE: {mae_xgb}\")\n",
        "print(f\"MSE: {mse_xgb}\")\n",
        "print(f\"R-squared (R2): {r2_xgb}\")"
      ]
    }
  ],
  "metadata": {
    "colab": {
      "provenance": [],
      "include_colab_link": true
    },
    "kernelspec": {
      "display_name": "myenv",
      "language": "python",
      "name": "myenv"
    },
    "language_info": {
      "codemirror_mode": {
        "name": "ipython",
        "version": 3
      },
      "file_extension": ".py",
      "mimetype": "text/x-python",
      "name": "python",
      "nbconvert_exporter": "python",
      "pygments_lexer": "ipython3",
      "version": "3.11.5"
    }
  },
  "nbformat": 4,
  "nbformat_minor": 0
}